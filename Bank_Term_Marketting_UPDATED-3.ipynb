{
 "cells": [
  {
   "cell_type": "code",
   "execution_count": 1,
   "metadata": {
    "colab": {
     "base_uri": "https://localhost:8080/",
     "height": 34
    },
    "colab_type": "code",
    "id": "T2BftG5zi1lL",
    "outputId": "977737ef-21fd-400c-bee5-9cc81e76527b"
   },
   "outputs": [
    {
     "name": "stderr",
     "output_type": "stream",
     "text": [
      "Using TensorFlow backend.\n"
     ]
    }
   ],
   "source": [
    "import tensorflow as tf\n",
    "import numpy as np\n",
    "from sklearn.model_selection import train_test_split\n",
    "from keras import metrics\n",
    "from keras.optimizers import SGD, Adam\n",
    "from keras.layers import BatchNormalization\n",
    "from keras.utils import np_utils\n",
    "from keras.layers.core import Dense,Activation,Dropout"
   ]
  },
  {
   "cell_type": "code",
   "execution_count": 2,
   "metadata": {
    "colab": {},
    "colab_type": "code",
    "id": "9Uc8-UQDlB4j"
   },
   "outputs": [],
   "source": [
    "#!pip install pydrive"
   ]
  },
  {
   "cell_type": "code",
   "execution_count": 3,
   "metadata": {
    "colab": {},
    "colab_type": "code",
    "id": "xVbp1A-gnM2N"
   },
   "outputs": [],
   "source": [
    "from pydrive.auth import GoogleAuth\n",
    "from pydrive.drive import GoogleDrive\n",
    "from google.colab import auth\n",
    "from oauth2client.client import GoogleCredentials"
   ]
  },
  {
   "cell_type": "code",
   "execution_count": 4,
   "metadata": {
    "colab": {},
    "colab_type": "code",
    "id": "lNWuxoxTnVEa"
   },
   "outputs": [],
   "source": [
    "auth.authenticate_user()\n",
    "gauth = GoogleAuth()\n",
    "gauth.credentials = GoogleCredentials.get_application_default()\n",
    "drive = GoogleDrive(gauth)"
   ]
  },
  {
   "cell_type": "code",
   "execution_count": 5,
   "metadata": {
    "colab": {
     "base_uri": "https://localhost:8080/",
     "height": 34
    },
    "colab_type": "code",
    "id": "nJazp-NCmT0a",
    "outputId": "5707a09b-db27-4a75-c5ef-395d568dbadc"
   },
   "outputs": [
    {
     "name": "stdout",
     "output_type": "stream",
     "text": [
      "Drive already mounted at /content/drive; to attempt to forcibly remount, call drive.mount(\"/content/drive\", force_remount=True).\n"
     ]
    }
   ],
   "source": [
    "from google.colab import drive\n",
    "drive.mount('/content/drive')"
   ]
  },
  {
   "cell_type": "code",
   "execution_count": 6,
   "metadata": {
    "colab": {},
    "colab_type": "code",
    "id": "O9wCiR9poApZ"
   },
   "outputs": [],
   "source": [
    "import pandas as pd \n",
    "train = pd.read_csv('/content/drive/My Drive/Colab Notebooks/bank-full.csv', delimiter=';')\n",
    "\n"
   ]
  },
  {
   "cell_type": "code",
   "execution_count": 7,
   "metadata": {
    "colab": {},
    "colab_type": "code",
    "id": "FBqBppGcw9_6"
   },
   "outputs": [],
   "source": [
    "train = train.drop(['duration','day','month'], axis = 1)"
   ]
  },
  {
   "cell_type": "code",
   "execution_count": 8,
   "metadata": {
    "colab": {},
    "colab_type": "code",
    "id": "TBFqklHmzZe6"
   },
   "outputs": [],
   "source": [
    "train['y'] = train['y'].map({'yes':1, 'no':0})"
   ]
  },
  {
   "cell_type": "code",
   "execution_count": 9,
   "metadata": {
    "colab": {},
    "colab_type": "code",
    "id": "aiI6biisxCcS"
   },
   "outputs": [],
   "source": [
    "def impute_age(data):\n",
    "    if (data['age'] < 18):\n",
    "        return 'Child'\n",
    "    elif((data['age'] < 35) & (data['age'] >= 18)):\n",
    "        return 'Adult'\n",
    "    elif((data['age'] < 60)) & (data['age'] >= 35):\n",
    "        return 'Middle-Aged'\n",
    "    else:\n",
    "        return 'Old'"
   ]
  },
  {
   "cell_type": "code",
   "execution_count": 10,
   "metadata": {
    "colab": {},
    "colab_type": "code",
    "id": "NY-Gnr56xCiR"
   },
   "outputs": [],
   "source": [
    "train['age'] = train.apply(impute_age , axis = 1)"
   ]
  },
  {
   "cell_type": "code",
   "execution_count": 11,
   "metadata": {
    "colab": {},
    "colab_type": "code",
    "id": "EgOnmZbwxChT"
   },
   "outputs": [],
   "source": [
    "#we can combine similar jobs into categories\n",
    "train['job'] = train['job'].replace(['management', 'admin.'], 'admin/manag')\n",
    "train['job'] = train['job'].replace(['services','housemaid'], 'home/service')\n",
    "train['job'] = train['job'].replace(['retired', 'student', 'unemployed', 'unknown'], 'unemployed')"
   ]
  },
  {
   "cell_type": "code",
   "execution_count": 12,
   "metadata": {
    "colab": {
     "base_uri": "https://localhost:8080/",
     "height": 68
    },
    "colab_type": "code",
    "id": "ORFemmqixNkp",
    "outputId": "746d49c8-f278-44ee-fc9b-d3c56f740c2b"
   },
   "outputs": [
    {
     "data": {
      "text/plain": [
       "failure    43700\n",
       "success     1511\n",
       "Name: poutcome, dtype: int64"
      ]
     },
     "execution_count": 12,
     "metadata": {
      "tags": []
     },
     "output_type": "execute_result"
    }
   ],
   "source": [
    "# combine other and unknown category into failure because only success and failure matters\n",
    "train['poutcome'] = train['poutcome'].replace(['other'] , 'failure')\n",
    "train['poutcome'] = train['poutcome'].replace(['unknown'] , 'failure')\n",
    "train.poutcome.value_counts()"
   ]
  },
  {
   "cell_type": "code",
   "execution_count": 13,
   "metadata": {
    "colab": {},
    "colab_type": "code",
    "id": "9XKxBtM5xR1k"
   },
   "outputs": [],
   "source": [
    "train['default'] = train['default'].map( {'yes':1, 'no':0} )\n",
    "train['default'].value_counts()\n",
    "train['poutcome'] = train['poutcome'].map( {'success':1, 'failure':0} )"
   ]
  },
  {
   "cell_type": "code",
   "execution_count": 14,
   "metadata": {
    "colab": {
     "base_uri": "https://localhost:8080/",
     "height": 68
    },
    "colab_type": "code",
    "id": "UNBDp7JZxVDD",
    "outputId": "526e0934-1a39-4540-9fcb-1b87655e853d"
   },
   "outputs": [
    {
     "data": {
      "text/plain": [
       "1    25130\n",
       "0    20081\n",
       "Name: housing, dtype: int64"
      ]
     },
     "execution_count": 14,
     "metadata": {
      "tags": []
     },
     "output_type": "execute_result"
    }
   ],
   "source": [
    "train['housing']=train['housing'].map({'yes':1, 'no':0})\n",
    "train[\"loan\"] = train['loan'].map({'yes':1, 'no':0})\n",
    "train['housing'].value_counts()\n"
   ]
  },
  {
   "cell_type": "code",
   "execution_count": 15,
   "metadata": {
    "colab": {},
    "colab_type": "code",
    "id": "hc9YdIJwxoKk"
   },
   "outputs": [],
   "source": [
    "Bal_fil = train.balance<80000\n",
    "train = train[Bal_fil]"
   ]
  },
  {
   "cell_type": "code",
   "execution_count": 16,
   "metadata": {
    "colab": {},
    "colab_type": "code",
    "id": "1cm-Uzl5xrfz"
   },
   "outputs": [],
   "source": [
    "cam_fil = train.campaign<50\n",
    "train = train[cam_fil]"
   ]
  },
  {
   "cell_type": "code",
   "execution_count": 17,
   "metadata": {
    "colab": {},
    "colab_type": "code",
    "id": "RFcyqXcWxvYt"
   },
   "outputs": [],
   "source": [
    "from sklearn.preprocessing import OneHotEncoder\n",
    "from sklearn_pandas import DataFrameMapper\n",
    "from sklearn.preprocessing import LabelBinarizer\n",
    "from sklearn.preprocessing import MinMaxScaler\n",
    "from sklearn.preprocessing import StandardScaler\n",
    "\n",
    "def encode_and_bind(orignal_dataframe , feature_to_encode):\n",
    "    dummies = pd.get_dummies(orignal_dataframe[[feature_to_encode]])\n",
    "    res = pd.concat([orignal_dataframe , dummies] , axis = 1)\n",
    "    return res\n",
    "\n",
    "for i in [col for col, dtype in train.dtypes.items() if dtype == 'object']:\n",
    "    if i in ['age','job','marital','education','contact']:\n",
    "        train = encode_and_bind(train, i)"
   ]
  },
  {
   "cell_type": "code",
   "execution_count": 18,
   "metadata": {
    "colab": {},
    "colab_type": "code",
    "id": "PlfSU0gnx5qv"
   },
   "outputs": [],
   "source": [
    "train = train.drop(['age','job','marital','education','contact'], axis = 1)"
   ]
  },
  {
   "cell_type": "code",
   "execution_count": 19,
   "metadata": {
    "colab": {},
    "colab_type": "code",
    "id": "au4OqYdXqV_8"
   },
   "outputs": [],
   "source": [
    "predictors = train.drop('y', axis = 1)\n",
    "to_predict = train['y']"
   ]
  },
  {
   "cell_type": "code",
   "execution_count": 20,
   "metadata": {
    "colab": {
     "base_uri": "https://localhost:8080/",
     "height": 34
    },
    "colab_type": "code",
    "id": "ehE3c8rkqw3r",
    "outputId": "164ec336-5bbc-4347-ff66-39a684df1488"
   },
   "outputs": [
    {
     "data": {
      "text/plain": [
       "(45201, 28)"
      ]
     },
     "execution_count": 20,
     "metadata": {
      "tags": []
     },
     "output_type": "execute_result"
    }
   ],
   "source": [
    "predictors.shape"
   ]
  },
  {
   "cell_type": "code",
   "execution_count": 21,
   "metadata": {
    "colab": {
     "base_uri": "https://localhost:8080/",
     "height": 241
    },
    "colab_type": "code",
    "id": "Nwmel1a0yDMY",
    "outputId": "724d4e9e-8f7e-4ae6-9d84-15a99f747ddf"
   },
   "outputs": [
    {
     "data": {
      "text/html": [
       "<div>\n",
       "<style scoped>\n",
       "    .dataframe tbody tr th:only-of-type {\n",
       "        vertical-align: middle;\n",
       "    }\n",
       "\n",
       "    .dataframe tbody tr th {\n",
       "        vertical-align: top;\n",
       "    }\n",
       "\n",
       "    .dataframe thead th {\n",
       "        text-align: right;\n",
       "    }\n",
       "</style>\n",
       "<table border=\"1\" class=\"dataframe\">\n",
       "  <thead>\n",
       "    <tr style=\"text-align: right;\">\n",
       "      <th></th>\n",
       "      <th>default</th>\n",
       "      <th>balance</th>\n",
       "      <th>housing</th>\n",
       "      <th>loan</th>\n",
       "      <th>campaign</th>\n",
       "      <th>pdays</th>\n",
       "      <th>previous</th>\n",
       "      <th>poutcome</th>\n",
       "      <th>age_Adult</th>\n",
       "      <th>age_Middle-Aged</th>\n",
       "      <th>age_Old</th>\n",
       "      <th>job_admin/manag</th>\n",
       "      <th>job_blue-collar</th>\n",
       "      <th>job_entrepreneur</th>\n",
       "      <th>job_home/service</th>\n",
       "      <th>job_self-employed</th>\n",
       "      <th>job_technician</th>\n",
       "      <th>job_unemployed</th>\n",
       "      <th>marital_divorced</th>\n",
       "      <th>marital_married</th>\n",
       "      <th>marital_single</th>\n",
       "      <th>education_primary</th>\n",
       "      <th>education_secondary</th>\n",
       "      <th>education_tertiary</th>\n",
       "      <th>education_unknown</th>\n",
       "      <th>contact_cellular</th>\n",
       "      <th>contact_telephone</th>\n",
       "      <th>contact_unknown</th>\n",
       "    </tr>\n",
       "  </thead>\n",
       "  <tbody>\n",
       "    <tr>\n",
       "      <th>0</th>\n",
       "      <td>0</td>\n",
       "      <td>2143</td>\n",
       "      <td>1</td>\n",
       "      <td>0</td>\n",
       "      <td>1</td>\n",
       "      <td>-1</td>\n",
       "      <td>0</td>\n",
       "      <td>0</td>\n",
       "      <td>0</td>\n",
       "      <td>1</td>\n",
       "      <td>0</td>\n",
       "      <td>1</td>\n",
       "      <td>0</td>\n",
       "      <td>0</td>\n",
       "      <td>0</td>\n",
       "      <td>0</td>\n",
       "      <td>0</td>\n",
       "      <td>0</td>\n",
       "      <td>0</td>\n",
       "      <td>1</td>\n",
       "      <td>0</td>\n",
       "      <td>0</td>\n",
       "      <td>0</td>\n",
       "      <td>1</td>\n",
       "      <td>0</td>\n",
       "      <td>0</td>\n",
       "      <td>0</td>\n",
       "      <td>1</td>\n",
       "    </tr>\n",
       "    <tr>\n",
       "      <th>1</th>\n",
       "      <td>0</td>\n",
       "      <td>29</td>\n",
       "      <td>1</td>\n",
       "      <td>0</td>\n",
       "      <td>1</td>\n",
       "      <td>-1</td>\n",
       "      <td>0</td>\n",
       "      <td>0</td>\n",
       "      <td>0</td>\n",
       "      <td>1</td>\n",
       "      <td>0</td>\n",
       "      <td>0</td>\n",
       "      <td>0</td>\n",
       "      <td>0</td>\n",
       "      <td>0</td>\n",
       "      <td>0</td>\n",
       "      <td>1</td>\n",
       "      <td>0</td>\n",
       "      <td>0</td>\n",
       "      <td>0</td>\n",
       "      <td>1</td>\n",
       "      <td>0</td>\n",
       "      <td>1</td>\n",
       "      <td>0</td>\n",
       "      <td>0</td>\n",
       "      <td>0</td>\n",
       "      <td>0</td>\n",
       "      <td>1</td>\n",
       "    </tr>\n",
       "    <tr>\n",
       "      <th>2</th>\n",
       "      <td>0</td>\n",
       "      <td>2</td>\n",
       "      <td>1</td>\n",
       "      <td>1</td>\n",
       "      <td>1</td>\n",
       "      <td>-1</td>\n",
       "      <td>0</td>\n",
       "      <td>0</td>\n",
       "      <td>1</td>\n",
       "      <td>0</td>\n",
       "      <td>0</td>\n",
       "      <td>0</td>\n",
       "      <td>0</td>\n",
       "      <td>1</td>\n",
       "      <td>0</td>\n",
       "      <td>0</td>\n",
       "      <td>0</td>\n",
       "      <td>0</td>\n",
       "      <td>0</td>\n",
       "      <td>1</td>\n",
       "      <td>0</td>\n",
       "      <td>0</td>\n",
       "      <td>1</td>\n",
       "      <td>0</td>\n",
       "      <td>0</td>\n",
       "      <td>0</td>\n",
       "      <td>0</td>\n",
       "      <td>1</td>\n",
       "    </tr>\n",
       "    <tr>\n",
       "      <th>3</th>\n",
       "      <td>0</td>\n",
       "      <td>1506</td>\n",
       "      <td>1</td>\n",
       "      <td>0</td>\n",
       "      <td>1</td>\n",
       "      <td>-1</td>\n",
       "      <td>0</td>\n",
       "      <td>0</td>\n",
       "      <td>0</td>\n",
       "      <td>1</td>\n",
       "      <td>0</td>\n",
       "      <td>0</td>\n",
       "      <td>1</td>\n",
       "      <td>0</td>\n",
       "      <td>0</td>\n",
       "      <td>0</td>\n",
       "      <td>0</td>\n",
       "      <td>0</td>\n",
       "      <td>0</td>\n",
       "      <td>1</td>\n",
       "      <td>0</td>\n",
       "      <td>0</td>\n",
       "      <td>0</td>\n",
       "      <td>0</td>\n",
       "      <td>1</td>\n",
       "      <td>0</td>\n",
       "      <td>0</td>\n",
       "      <td>1</td>\n",
       "    </tr>\n",
       "    <tr>\n",
       "      <th>4</th>\n",
       "      <td>0</td>\n",
       "      <td>1</td>\n",
       "      <td>0</td>\n",
       "      <td>0</td>\n",
       "      <td>1</td>\n",
       "      <td>-1</td>\n",
       "      <td>0</td>\n",
       "      <td>0</td>\n",
       "      <td>1</td>\n",
       "      <td>0</td>\n",
       "      <td>0</td>\n",
       "      <td>0</td>\n",
       "      <td>0</td>\n",
       "      <td>0</td>\n",
       "      <td>0</td>\n",
       "      <td>0</td>\n",
       "      <td>0</td>\n",
       "      <td>1</td>\n",
       "      <td>0</td>\n",
       "      <td>0</td>\n",
       "      <td>1</td>\n",
       "      <td>0</td>\n",
       "      <td>0</td>\n",
       "      <td>0</td>\n",
       "      <td>1</td>\n",
       "      <td>0</td>\n",
       "      <td>0</td>\n",
       "      <td>1</td>\n",
       "    </tr>\n",
       "  </tbody>\n",
       "</table>\n",
       "</div>"
      ],
      "text/plain": [
       "   default  balance  ...  contact_telephone  contact_unknown\n",
       "0        0     2143  ...                  0                1\n",
       "1        0       29  ...                  0                1\n",
       "2        0        2  ...                  0                1\n",
       "3        0     1506  ...                  0                1\n",
       "4        0        1  ...                  0                1\n",
       "\n",
       "[5 rows x 28 columns]"
      ]
     },
     "execution_count": 21,
     "metadata": {
      "tags": []
     },
     "output_type": "execute_result"
    }
   ],
   "source": [
    "predictors.head()"
   ]
  },
  {
   "cell_type": "code",
   "execution_count": 22,
   "metadata": {
    "colab": {},
    "colab_type": "code",
    "id": "cmUalbE8pqId"
   },
   "outputs": [],
   "source": [
    "train_data , test_data,train_targets, test_targets = train_test_split(predictors , to_predict , test_size = 0.2 , random_state = 40)"
   ]
  },
  {
   "cell_type": "code",
   "execution_count": 23,
   "metadata": {
    "colab": {
     "base_uri": "https://localhost:8080/",
     "height": 34
    },
    "colab_type": "code",
    "id": "xl8eX3GOoK46",
    "outputId": "a0b7e7ec-0a58-4f63-cb01-03114c271cff"
   },
   "outputs": [
    {
     "data": {
      "text/plain": [
       "(36160, 28)"
      ]
     },
     "execution_count": 23,
     "metadata": {
      "tags": []
     },
     "output_type": "execute_result"
    }
   ],
   "source": [
    "train_data.shape"
   ]
  },
  {
   "cell_type": "markdown",
   "metadata": {
    "colab_type": "text",
    "id": "KJnRrviho2wy"
   },
   "source": [
    "Normalize the data"
   ]
  },
  {
   "cell_type": "code",
   "execution_count": 24,
   "metadata": {
    "colab": {},
    "colab_type": "code",
    "id": "_vhn8XG0v3je"
   },
   "outputs": [],
   "source": [
    "mean = train_data.mean(axis = 0)\n",
    "train_data = train_data - mean\n",
    "std = train_data.std(axis = 0)\n",
    "train_data = train_data/std \n"
   ]
  },
  {
   "cell_type": "code",
   "execution_count": 25,
   "metadata": {
    "colab": {},
    "colab_type": "code",
    "id": "xZyXK18KsK58"
   },
   "outputs": [],
   "source": [
    "#same we have to do with test data  too\n",
    "\n",
    "test_data = test_data - mean\n",
    "test_data = test_data / std"
   ]
  },
  {
   "cell_type": "code",
   "execution_count": 26,
   "metadata": {
    "colab": {
     "base_uri": "https://localhost:8080/",
     "height": 34
    },
    "colab_type": "code",
    "id": "TLUe47xm9aRe",
    "outputId": "d5949dd3-ec41-42cd-ba50-85d8b32c7427"
   },
   "outputs": [
    {
     "name": "stdout",
     "output_type": "stream",
     "text": [
      "(28,)\n"
     ]
    }
   ],
   "source": [
    "print((train_data.shape[1],))"
   ]
  },
  {
   "cell_type": "code",
   "execution_count": 27,
   "metadata": {
    "colab": {
     "base_uri": "https://localhost:8080/",
     "height": 612
    },
    "colab_type": "code",
    "id": "DyFNTbOSyo78",
    "outputId": "877868c2-3652-4b93-80a3-450f1a54c544"
   },
   "outputs": [
    {
     "name": "stdout",
     "output_type": "stream",
     "text": [
      "<class 'pandas.core.frame.DataFrame'>\n",
      "Int64Index: 36160 entries, 16799 to 11594\n",
      "Data columns (total 28 columns):\n",
      " #   Column               Non-Null Count  Dtype  \n",
      "---  ------               --------------  -----  \n",
      " 0   default              36160 non-null  float64\n",
      " 1   balance              36160 non-null  float64\n",
      " 2   housing              36160 non-null  float64\n",
      " 3   loan                 36160 non-null  float64\n",
      " 4   campaign             36160 non-null  float64\n",
      " 5   pdays                36160 non-null  float64\n",
      " 6   previous             36160 non-null  float64\n",
      " 7   poutcome             36160 non-null  float64\n",
      " 8   age_Adult            36160 non-null  float64\n",
      " 9   age_Middle-Aged      36160 non-null  float64\n",
      " 10  age_Old              36160 non-null  float64\n",
      " 11  job_admin/manag      36160 non-null  float64\n",
      " 12  job_blue-collar      36160 non-null  float64\n",
      " 13  job_entrepreneur     36160 non-null  float64\n",
      " 14  job_home/service     36160 non-null  float64\n",
      " 15  job_self-employed    36160 non-null  float64\n",
      " 16  job_technician       36160 non-null  float64\n",
      " 17  job_unemployed       36160 non-null  float64\n",
      " 18  marital_divorced     36160 non-null  float64\n",
      " 19  marital_married      36160 non-null  float64\n",
      " 20  marital_single       36160 non-null  float64\n",
      " 21  education_primary    36160 non-null  float64\n",
      " 22  education_secondary  36160 non-null  float64\n",
      " 23  education_tertiary   36160 non-null  float64\n",
      " 24  education_unknown    36160 non-null  float64\n",
      " 25  contact_cellular     36160 non-null  float64\n",
      " 26  contact_telephone    36160 non-null  float64\n",
      " 27  contact_unknown      36160 non-null  float64\n",
      "dtypes: float64(28)\n",
      "memory usage: 8.0 MB\n"
     ]
    }
   ],
   "source": [
    "train_data.info()"
   ]
  },
  {
   "cell_type": "code",
   "execution_count": 28,
   "metadata": {
    "colab": {
     "base_uri": "https://localhost:8080/",
     "height": 221
    },
    "colab_type": "code",
    "id": "1Dnc5MaBf0mN",
    "outputId": "a24d22b6-0c71-4859-81b8-d75b762da355"
   },
   "outputs": [
    {
     "data": {
      "text/plain": [
       "16799    0\n",
       "12178    0\n",
       "22868    0\n",
       "15126    0\n",
       "41513    0\n",
       "        ..\n",
       "11536    0\n",
       "27647    0\n",
       "14506    0\n",
       "30734    0\n",
       "11594    0\n",
       "Name: y, Length: 36160, dtype: int64"
      ]
     },
     "execution_count": 28,
     "metadata": {
      "tags": []
     },
     "output_type": "execute_result"
    }
   ],
   "source": [
    "train_targets"
   ]
  },
  {
   "cell_type": "markdown",
   "metadata": {
    "colab_type": "text",
    "id": "iUyVV3wr8g_f"
   },
   "source": [
    "very few samples are available, you’ll use a very small network with two hidden layers, each with 64 units. In general, the less training data you have, the worse overfitting will be, and using a small network is one way to mitigate overfitting"
   ]
  },
  {
   "cell_type": "code",
   "execution_count": 29,
   "metadata": {
    "colab": {},
    "colab_type": "code",
    "id": "gwx45vg6emrm"
   },
   "outputs": [],
   "source": [
    "import tensorflow as tf\n",
    "from tensorflow import keras\n",
    "np.random.seed(1671)  #for Reproducibility\n",
    "\n",
    "#network and training\n",
    "EPOCH = 20\n",
    "BATCH_SIZE = 128\n",
    "VERBOSE = 1 \n",
    "OPTIMIZER= SGD(learning_rate=0.001, momentum=0.9)   #Gradient Descent Optimizer\n",
    "VALIDATION_SPLIT = 0.2 #Splitting the data in validation and train and form the main subset of train data"
   ]
  },
  {
   "cell_type": "code",
   "execution_count": 30,
   "metadata": {
    "colab": {},
    "colab_type": "code",
    "id": "geJid-wMQ_g-"
   },
   "outputs": [],
   "source": [
    "METRICS = [\n",
    "      keras.metrics.TruePositives(name='tp'),\n",
    "      keras.metrics.FalsePositives(name='fp'),\n",
    "      keras.metrics.TrueNegatives(name='tn'),\n",
    "      keras.metrics.FalseNegatives(name='fn'), \n",
    "      keras.metrics.BinaryAccuracy(name='accuracy'),\n",
    "      keras.metrics.Precision(name='precision'),\n",
    "      keras.metrics.Recall(name='recall'),\n",
    "      keras.metrics.AUC(name='auc'),\n",
    "]"
   ]
  },
  {
   "cell_type": "markdown",
   "metadata": {
    "colab_type": "text",
    "id": "C4CqAy0r0YXP"
   },
   "source": [
    "**Usage of initializers**\n",
    "Initializers define the way to set the initial random weights of Keras layers."
   ]
  },
  {
   "cell_type": "code",
   "execution_count": 55,
   "metadata": {
    "colab": {},
    "colab_type": "code",
    "id": "5o392ZdAwYDR"
   },
   "outputs": [],
   "source": [
    "from keras import models\n",
    "from keras import layers\n",
    "\n",
    "\n",
    "def build_model(metrics = METRICS,output_bias=None):\n",
    "  if output_bias is not None:\n",
    "    output_bias = tf.keras.initializers.Constant(output_bias)\n",
    " \n",
    "  \n",
    "  model = keras.Sequential([\n",
    "      keras.layers.Dense(\n",
    "          16, activation='relu',\n",
    "          input_shape=(train_data.shape[1],)),\n",
    "      keras.layers.Dropout(0.1),\n",
    "      keras.layers.Dense(8, activation='relu'),\n",
    "      keras.layers.Dropout(0.1),\n",
    "      keras.layers.Dense(1, activation='sigmoid',\n",
    "                         bias_initializer=output_bias),\n",
    "  ])\n",
    "\n",
    "  #Compiling the model\n",
    "\n",
    "  model.compile(\n",
    "      optimizer=keras.optimizers.Adam(lr=1e-3),\n",
    "      loss=keras.losses.BinaryCrossentropy(),\n",
    "      metrics=metrics)\n",
    "  return model "
   ]
  },
  {
   "cell_type": "code",
   "execution_count": 56,
   "metadata": {
    "colab": {
     "base_uri": "https://localhost:8080/",
     "height": 34
    },
    "colab_type": "code",
    "id": "Cu9RZVPpNLkE",
    "outputId": "73baf6e8-7896-4662-c019-5f1da2ceed13"
   },
   "outputs": [
    {
     "data": {
      "text/plain": [
       "array([-2.02967001])"
      ]
     },
     "execution_count": 56,
     "metadata": {
      "tags": []
     },
     "output_type": "execute_result"
    }
   ],
   "source": [
    "neg, pos = np.bincount(train_targets)\n",
    "total = neg + pos\n",
    "initial_bias = np.log([pos/neg])\n",
    "initial_bias\n"
   ]
  },
  {
   "cell_type": "code",
   "execution_count": 57,
   "metadata": {
    "colab": {},
    "colab_type": "code",
    "id": "gn4-bwKi_MNw"
   },
   "outputs": [],
   "source": [
    "model = build_model(output_bias = initial_bias)\n",
    "#model = build_model()"
   ]
  },
  {
   "cell_type": "code",
   "execution_count": 34,
   "metadata": {
    "colab": {
     "base_uri": "https://localhost:8080/",
     "height": 323
    },
    "colab_type": "code",
    "id": "EQvDyIVx_Sw1",
    "outputId": "57317c0a-8682-41b5-947e-6ea6e76f0532"
   },
   "outputs": [
    {
     "name": "stdout",
     "output_type": "stream",
     "text": [
      "Model: \"sequential\"\n",
      "_________________________________________________________________\n",
      "Layer (type)                 Output Shape              Param #   \n",
      "=================================================================\n",
      "dense (Dense)                (None, 16)                464       \n",
      "_________________________________________________________________\n",
      "dropout (Dropout)            (None, 16)                0         \n",
      "_________________________________________________________________\n",
      "dense_1 (Dense)              (None, 8)                 136       \n",
      "_________________________________________________________________\n",
      "dropout_1 (Dropout)          (None, 8)                 0         \n",
      "_________________________________________________________________\n",
      "dense_2 (Dense)              (None, 1)                 9         \n",
      "=================================================================\n",
      "Total params: 609\n",
      "Trainable params: 609\n",
      "Non-trainable params: 0\n",
      "_________________________________________________________________\n"
     ]
    }
   ],
   "source": [
    "model.summary()"
   ]
  },
  {
   "cell_type": "code",
   "execution_count": 58,
   "metadata": {
    "colab": {
     "base_uri": "https://localhost:8080/",
     "height": 34
    },
    "colab_type": "code",
    "id": "zoZ79G2kYdN9",
    "outputId": "df266045-4ab4-4c93-a2ce-e19ad68f3db0"
   },
   "outputs": [
    {
     "name": "stdout",
     "output_type": "stream",
     "text": [
      "Loss: 0.3749\n"
     ]
    }
   ],
   "source": [
    "results = model.evaluate(train_data, train_targets, batch_size=BATCH_SIZE, verbose=0)\n",
    "print(\"Loss: {:0.4f}\".format(results[0]))"
   ]
  },
  {
   "cell_type": "code",
   "execution_count": 59,
   "metadata": {
    "colab": {},
    "colab_type": "code",
    "id": "0ycP1OCA_eCl"
   },
   "outputs": [],
   "source": [
    "#Training the model with actual inputs\n",
    "from keras.callbacks import EarlyStopping\n",
    "#callback = EarlyStopping( monitor='loss' , patience=3)\n",
    "callback = tf.keras.callbacks.ReduceLROnPlateau(\n",
    "    monitor=\"val_loss\",\n",
    "    factor=0.1,\n",
    "    patience=2,\n",
    "    verbose=0,\n",
    "    mode=\"auto\",\n",
    "    min_delta=0.0001,\n",
    "    cooldown=0,\n",
    "    min_lr=0\n",
    "    \n",
    ")\n"
   ]
  },
  {
   "cell_type": "markdown",
   "metadata": {
    "colab_type": "text",
    "id": "Trw96zv401tH"
   },
   "source": [
    "\n",
    "**Confirm that the bias fix helps**\n",
    "\n",
    "Before moving on, confirm quick that the careful bias initialization actually helped.\n",
    "\n",
    "Train the model for 20 epochs, with and without this careful initialization, and compare the losses:"
   ]
  },
  {
   "cell_type": "code",
   "execution_count": 63,
   "metadata": {
    "colab": {
     "base_uri": "https://localhost:8080/",
     "height": 717
    },
    "colab_type": "code",
    "id": "g8aVXAX-SXkF",
    "outputId": "58e4f2be-828a-4eef-c3ab-2005ec2746ed"
   },
   "outputs": [
    {
     "name": "stdout",
     "output_type": "stream",
     "text": [
      "Epoch 1/20\n",
      "226/226 [==============================] - 1s 6ms/step - loss: 0.5364 - tp: 1019.0000 - fp: 5001.0000 - tn: 26960.0000 - fn: 3180.0000 - accuracy: 0.7738 - precision: 0.1693 - recall: 0.2427 - auc: 0.6024 - val_loss: 0.3402 - val_tp: 78.0000 - val_fp: 55.0000 - val_tn: 6318.0000 - val_fn: 781.0000 - val_accuracy: 0.8844 - val_precision: 0.5865 - val_recall: 0.0908 - val_auc: 0.6840 - lr: 0.0010\n",
      "Epoch 2/20\n",
      "226/226 [==============================] - 1s 3ms/step - loss: 0.3471 - tp: 455.0000 - fp: 345.0000 - tn: 25243.0000 - fn: 2885.0000 - accuracy: 0.8883 - precision: 0.5688 - recall: 0.1362 - auc: 0.6873 - val_loss: 0.3230 - val_tp: 111.0000 - val_fp: 59.0000 - val_tn: 6314.0000 - val_fn: 748.0000 - val_accuracy: 0.8884 - val_precision: 0.6529 - val_recall: 0.1292 - val_auc: 0.7219 - lr: 0.0010\n",
      "Epoch 3/20\n",
      "226/226 [==============================] - 1s 3ms/step - loss: 0.3342 - tp: 466.0000 - fp: 286.0000 - tn: 25302.0000 - fn: 2874.0000 - accuracy: 0.8908 - precision: 0.6197 - recall: 0.1395 - auc: 0.7048 - val_loss: 0.3195 - val_tp: 122.0000 - val_fp: 60.0000 - val_tn: 6313.0000 - val_fn: 737.0000 - val_accuracy: 0.8898 - val_precision: 0.6703 - val_recall: 0.1420 - val_auc: 0.7319 - lr: 0.0010\n",
      "Epoch 4/20\n",
      "226/226 [==============================] - 1s 3ms/step - loss: 0.3288 - tp: 511.0000 - fp: 294.0000 - tn: 25294.0000 - fn: 2829.0000 - accuracy: 0.8920 - precision: 0.6348 - recall: 0.1530 - auc: 0.7112 - val_loss: 0.3180 - val_tp: 132.0000 - val_fp: 63.0000 - val_tn: 6310.0000 - val_fn: 727.0000 - val_accuracy: 0.8908 - val_precision: 0.6769 - val_recall: 0.1537 - val_auc: 0.7354 - lr: 0.0010\n",
      "Epoch 5/20\n",
      "226/226 [==============================] - 1s 2ms/step - loss: 0.3255 - tp: 495.0000 - fp: 266.0000 - tn: 25322.0000 - fn: 2845.0000 - accuracy: 0.8925 - precision: 0.6505 - recall: 0.1482 - auc: 0.7163 - val_loss: 0.3169 - val_tp: 138.0000 - val_fp: 63.0000 - val_tn: 6310.0000 - val_fn: 721.0000 - val_accuracy: 0.8916 - val_precision: 0.6866 - val_recall: 0.1607 - val_auc: 0.7376 - lr: 0.0010\n",
      "Epoch 6/20\n",
      "226/226 [==============================] - 1s 3ms/step - loss: 0.3205 - tp: 543.0000 - fp: 286.0000 - tn: 25302.0000 - fn: 2797.0000 - accuracy: 0.8934 - precision: 0.6550 - recall: 0.1626 - auc: 0.7233 - val_loss: 0.3160 - val_tp: 141.0000 - val_fp: 64.0000 - val_tn: 6309.0000 - val_fn: 718.0000 - val_accuracy: 0.8919 - val_precision: 0.6878 - val_recall: 0.1641 - val_auc: 0.7394 - lr: 0.0010\n",
      "Epoch 7/20\n",
      "226/226 [==============================] - 1s 3ms/step - loss: 0.3188 - tp: 531.0000 - fp: 277.0000 - tn: 25311.0000 - fn: 2809.0000 - accuracy: 0.8933 - precision: 0.6572 - recall: 0.1590 - auc: 0.7287 - val_loss: 0.3159 - val_tp: 142.0000 - val_fp: 64.0000 - val_tn: 6309.0000 - val_fn: 717.0000 - val_accuracy: 0.8920 - val_precision: 0.6893 - val_recall: 0.1653 - val_auc: 0.7401 - lr: 0.0010\n",
      "Epoch 8/20\n",
      "226/226 [==============================] - 1s 3ms/step - loss: 0.3164 - tp: 529.0000 - fp: 271.0000 - tn: 25317.0000 - fn: 2811.0000 - accuracy: 0.8935 - precision: 0.6612 - recall: 0.1584 - auc: 0.7321 - val_loss: 0.3157 - val_tp: 140.0000 - val_fp: 63.0000 - val_tn: 6310.0000 - val_fn: 719.0000 - val_accuracy: 0.8919 - val_precision: 0.6897 - val_recall: 0.1630 - val_auc: 0.7407 - lr: 0.0010\n",
      "Epoch 9/20\n",
      "226/226 [==============================] - 1s 3ms/step - loss: 0.3161 - tp: 545.0000 - fp: 278.0000 - tn: 25310.0000 - fn: 2795.0000 - accuracy: 0.8938 - precision: 0.6622 - recall: 0.1632 - auc: 0.7328 - val_loss: 0.3152 - val_tp: 145.0000 - val_fp: 63.0000 - val_tn: 6310.0000 - val_fn: 714.0000 - val_accuracy: 0.8926 - val_precision: 0.6971 - val_recall: 0.1688 - val_auc: 0.7404 - lr: 0.0010\n",
      "Epoch 10/20\n",
      "226/226 [==============================] - 1s 3ms/step - loss: 0.3144 - tp: 555.0000 - fp: 276.0000 - tn: 25312.0000 - fn: 2785.0000 - accuracy: 0.8942 - precision: 0.6679 - recall: 0.1662 - auc: 0.7349 - val_loss: 0.3148 - val_tp: 143.0000 - val_fp: 61.0000 - val_tn: 6312.0000 - val_fn: 716.0000 - val_accuracy: 0.8926 - val_precision: 0.7010 - val_recall: 0.1665 - val_auc: 0.7409 - lr: 0.0010\n",
      "Epoch 11/20\n",
      "226/226 [==============================] - 1s 2ms/step - loss: 0.3124 - tp: 536.0000 - fp: 276.0000 - tn: 25312.0000 - fn: 2804.0000 - accuracy: 0.8935 - precision: 0.6601 - recall: 0.1605 - auc: 0.7406 - val_loss: 0.3147 - val_tp: 144.0000 - val_fp: 64.0000 - val_tn: 6309.0000 - val_fn: 715.0000 - val_accuracy: 0.8923 - val_precision: 0.6923 - val_recall: 0.1676 - val_auc: 0.7416 - lr: 0.0010\n",
      "Epoch 12/20\n",
      "226/226 [==============================] - 1s 3ms/step - loss: 0.3128 - tp: 550.0000 - fp: 281.0000 - tn: 25307.0000 - fn: 2790.0000 - accuracy: 0.8938 - precision: 0.6619 - recall: 0.1647 - auc: 0.7367 - val_loss: 0.3144 - val_tp: 144.0000 - val_fp: 62.0000 - val_tn: 6311.0000 - val_fn: 715.0000 - val_accuracy: 0.8926 - val_precision: 0.6990 - val_recall: 0.1676 - val_auc: 0.7415 - lr: 0.0010\n",
      "Epoch 13/20\n",
      "226/226 [==============================] - 1s 3ms/step - loss: 0.3119 - tp: 539.0000 - fp: 277.0000 - tn: 25311.0000 - fn: 2801.0000 - accuracy: 0.8936 - precision: 0.6605 - recall: 0.1614 - auc: 0.7411 - val_loss: 0.3143 - val_tp: 145.0000 - val_fp: 62.0000 - val_tn: 6311.0000 - val_fn: 714.0000 - val_accuracy: 0.8927 - val_precision: 0.7005 - val_recall: 0.1688 - val_auc: 0.7414 - lr: 0.0010\n",
      "Epoch 14/20\n",
      "226/226 [==============================] - 1s 3ms/step - loss: 0.3112 - tp: 558.0000 - fp: 280.0000 - tn: 25308.0000 - fn: 2782.0000 - accuracy: 0.8942 - precision: 0.6659 - recall: 0.1671 - auc: 0.7402 - val_loss: 0.3145 - val_tp: 144.0000 - val_fp: 61.0000 - val_tn: 6312.0000 - val_fn: 715.0000 - val_accuracy: 0.8927 - val_precision: 0.7024 - val_recall: 0.1676 - val_auc: 0.7415 - lr: 0.0010\n",
      "Epoch 15/20\n",
      "226/226 [==============================] - 1s 3ms/step - loss: 0.3098 - tp: 554.0000 - fp: 277.0000 - tn: 25311.0000 - fn: 2786.0000 - accuracy: 0.8941 - precision: 0.6667 - recall: 0.1659 - auc: 0.7427 - val_loss: 0.3144 - val_tp: 144.0000 - val_fp: 61.0000 - val_tn: 6312.0000 - val_fn: 715.0000 - val_accuracy: 0.8927 - val_precision: 0.7024 - val_recall: 0.1676 - val_auc: 0.7419 - lr: 1.0000e-04\n",
      "Epoch 16/20\n",
      "226/226 [==============================] - 1s 3ms/step - loss: 0.3105 - tp: 545.0000 - fp: 272.0000 - tn: 25316.0000 - fn: 2795.0000 - accuracy: 0.8940 - precision: 0.6671 - recall: 0.1632 - auc: 0.7421 - val_loss: 0.3142 - val_tp: 144.0000 - val_fp: 61.0000 - val_tn: 6312.0000 - val_fn: 715.0000 - val_accuracy: 0.8927 - val_precision: 0.7024 - val_recall: 0.1676 - val_auc: 0.7421 - lr: 1.0000e-04\n",
      "Epoch 17/20\n",
      "226/226 [==============================] - 1s 2ms/step - loss: 0.3110 - tp: 552.0000 - fp: 286.0000 - tn: 25302.0000 - fn: 2788.0000 - accuracy: 0.8937 - precision: 0.6587 - recall: 0.1653 - auc: 0.7421 - val_loss: 0.3142 - val_tp: 144.0000 - val_fp: 61.0000 - val_tn: 6312.0000 - val_fn: 715.0000 - val_accuracy: 0.8927 - val_precision: 0.7024 - val_recall: 0.1676 - val_auc: 0.7419 - lr: 1.0000e-04\n",
      "Epoch 18/20\n",
      "226/226 [==============================] - 1s 3ms/step - loss: 0.3106 - tp: 565.0000 - fp: 277.0000 - tn: 25311.0000 - fn: 2775.0000 - accuracy: 0.8945 - precision: 0.6710 - recall: 0.1692 - auc: 0.7408 - val_loss: 0.3141 - val_tp: 144.0000 - val_fp: 61.0000 - val_tn: 6312.0000 - val_fn: 715.0000 - val_accuracy: 0.8927 - val_precision: 0.7024 - val_recall: 0.1676 - val_auc: 0.7424 - lr: 1.0000e-04\n",
      "Epoch 19/20\n",
      "226/226 [==============================] - 1s 3ms/step - loss: 0.3082 - tp: 543.0000 - fp: 282.0000 - tn: 25306.0000 - fn: 2797.0000 - accuracy: 0.8936 - precision: 0.6582 - recall: 0.1626 - auc: 0.7496 - val_loss: 0.3141 - val_tp: 144.0000 - val_fp: 61.0000 - val_tn: 6312.0000 - val_fn: 715.0000 - val_accuracy: 0.8927 - val_precision: 0.7024 - val_recall: 0.1676 - val_auc: 0.7423 - lr: 1.0000e-05\n",
      "Epoch 20/20\n",
      "226/226 [==============================] - 1s 3ms/step - loss: 0.3097 - tp: 551.0000 - fp: 281.0000 - tn: 25307.0000 - fn: 2789.0000 - accuracy: 0.8939 - precision: 0.6623 - recall: 0.1650 - auc: 0.7454 - val_loss: 0.3141 - val_tp: 144.0000 - val_fp: 61.0000 - val_tn: 6312.0000 - val_fn: 715.0000 - val_accuracy: 0.8927 - val_precision: 0.7024 - val_recall: 0.1676 - val_auc: 0.7423 - lr: 1.0000e-05\n"
     ]
    }
   ],
   "source": [
    "model = build_model(output_bias = 0.0)\n",
    "\n",
    "zero_bias_history = model.fit(train_data , train_targets , batch_size = BATCH_SIZE ,  epochs = EPOCH , verbose=VERBOSE,callbacks = [callback] , validation_split=VALIDATION_SPLIT)"
   ]
  },
  {
   "cell_type": "code",
   "execution_count": 64,
   "metadata": {
    "colab": {
     "base_uri": "https://localhost:8080/",
     "height": 717
    },
    "colab_type": "code",
    "id": "8owNmD6vSydu",
    "outputId": "d77a99db-affa-459a-f402-430685a2010c"
   },
   "outputs": [
    {
     "name": "stdout",
     "output_type": "stream",
     "text": [
      "Epoch 1/20\n",
      "226/226 [==============================] - 1s 6ms/step - loss: 0.3413 - tp: 353.0000 - fp: 216.0000 - tn: 31745.0000 - fn: 3846.0000 - accuracy: 0.8877 - precision: 0.6204 - recall: 0.0841 - auc: 0.6611 - val_loss: 0.3236 - val_tp: 107.0000 - val_fp: 38.0000 - val_tn: 6335.0000 - val_fn: 752.0000 - val_accuracy: 0.8908 - val_precision: 0.7379 - val_recall: 0.1246 - val_auc: 0.7114 - lr: 0.0010\n",
      "Epoch 2/20\n",
      "226/226 [==============================] - 1s 2ms/step - loss: 0.3182 - tp: 423.0000 - fp: 244.0000 - tn: 25344.0000 - fn: 2917.0000 - accuracy: 0.8907 - precision: 0.6342 - recall: 0.1266 - auc: 0.7127 - val_loss: 0.3185 - val_tp: 125.0000 - val_fp: 48.0000 - val_tn: 6325.0000 - val_fn: 734.0000 - val_accuracy: 0.8919 - val_precision: 0.7225 - val_recall: 0.1455 - val_auc: 0.7301 - lr: 0.0010\n",
      "Epoch 3/20\n",
      "226/226 [==============================] - 1s 2ms/step - loss: 0.3143 - tp: 467.0000 - fp: 254.0000 - tn: 25334.0000 - fn: 2873.0000 - accuracy: 0.8919 - precision: 0.6477 - recall: 0.1398 - auc: 0.7300 - val_loss: 0.3173 - val_tp: 126.0000 - val_fp: 50.0000 - val_tn: 6323.0000 - val_fn: 733.0000 - val_accuracy: 0.8917 - val_precision: 0.7159 - val_recall: 0.1467 - val_auc: 0.7326 - lr: 0.0010\n",
      "Epoch 4/20\n",
      "226/226 [==============================] - 1s 2ms/step - loss: 0.3106 - tp: 461.0000 - fp: 247.0000 - tn: 25341.0000 - fn: 2879.0000 - accuracy: 0.8919 - precision: 0.6511 - recall: 0.1380 - auc: 0.7426 - val_loss: 0.3170 - val_tp: 118.0000 - val_fp: 48.0000 - val_tn: 6325.0000 - val_fn: 741.0000 - val_accuracy: 0.8909 - val_precision: 0.7108 - val_recall: 0.1374 - val_auc: 0.7351 - lr: 0.0010\n",
      "Epoch 5/20\n",
      "226/226 [==============================] - 1s 3ms/step - loss: 0.3099 - tp: 464.0000 - fp: 235.0000 - tn: 25353.0000 - fn: 2876.0000 - accuracy: 0.8925 - precision: 0.6638 - recall: 0.1389 - auc: 0.7455 - val_loss: 0.3158 - val_tp: 126.0000 - val_fp: 56.0000 - val_tn: 6317.0000 - val_fn: 733.0000 - val_accuracy: 0.8909 - val_precision: 0.6923 - val_recall: 0.1467 - val_auc: 0.7360 - lr: 0.0010\n",
      "Epoch 6/20\n",
      "226/226 [==============================] - 1s 3ms/step - loss: 0.3083 - tp: 479.0000 - fp: 240.0000 - tn: 25348.0000 - fn: 2861.0000 - accuracy: 0.8928 - precision: 0.6662 - recall: 0.1434 - auc: 0.7469 - val_loss: 0.3155 - val_tp: 127.0000 - val_fp: 53.0000 - val_tn: 6320.0000 - val_fn: 732.0000 - val_accuracy: 0.8915 - val_precision: 0.7056 - val_recall: 0.1478 - val_auc: 0.7365 - lr: 0.0010\n",
      "Epoch 7/20\n",
      "226/226 [==============================] - 1s 2ms/step - loss: 0.3085 - tp: 492.0000 - fp: 240.0000 - tn: 25348.0000 - fn: 2848.0000 - accuracy: 0.8933 - precision: 0.6721 - recall: 0.1473 - auc: 0.7479 - val_loss: 0.3151 - val_tp: 134.0000 - val_fp: 57.0000 - val_tn: 6316.0000 - val_fn: 725.0000 - val_accuracy: 0.8919 - val_precision: 0.7016 - val_recall: 0.1560 - val_auc: 0.7375 - lr: 0.0010\n",
      "Epoch 8/20\n",
      "226/226 [==============================] - 1s 2ms/step - loss: 0.3085 - tp: 484.0000 - fp: 261.0000 - tn: 25327.0000 - fn: 2856.0000 - accuracy: 0.8922 - precision: 0.6497 - recall: 0.1449 - auc: 0.7505 - val_loss: 0.3154 - val_tp: 121.0000 - val_fp: 49.0000 - val_tn: 6324.0000 - val_fn: 738.0000 - val_accuracy: 0.8912 - val_precision: 0.7118 - val_recall: 0.1409 - val_auc: 0.7373 - lr: 0.0010\n",
      "Epoch 9/20\n",
      "226/226 [==============================] - 1s 3ms/step - loss: 0.3077 - tp: 479.0000 - fp: 238.0000 - tn: 25350.0000 - fn: 2861.0000 - accuracy: 0.8929 - precision: 0.6681 - recall: 0.1434 - auc: 0.7527 - val_loss: 0.3145 - val_tp: 129.0000 - val_fp: 53.0000 - val_tn: 6320.0000 - val_fn: 730.0000 - val_accuracy: 0.8917 - val_precision: 0.7088 - val_recall: 0.1502 - val_auc: 0.7388 - lr: 0.0010\n",
      "Epoch 10/20\n",
      "226/226 [==============================] - 1s 3ms/step - loss: 0.3055 - tp: 491.0000 - fp: 237.0000 - tn: 25351.0000 - fn: 2849.0000 - accuracy: 0.8933 - precision: 0.6745 - recall: 0.1470 - auc: 0.7556 - val_loss: 0.3146 - val_tp: 127.0000 - val_fp: 52.0000 - val_tn: 6321.0000 - val_fn: 732.0000 - val_accuracy: 0.8916 - val_precision: 0.7095 - val_recall: 0.1478 - val_auc: 0.7387 - lr: 0.0010\n",
      "Epoch 11/20\n",
      "226/226 [==============================] - 1s 3ms/step - loss: 0.3051 - tp: 508.0000 - fp: 251.0000 - tn: 25337.0000 - fn: 2832.0000 - accuracy: 0.8934 - precision: 0.6693 - recall: 0.1521 - auc: 0.7570 - val_loss: 0.3146 - val_tp: 123.0000 - val_fp: 50.0000 - val_tn: 6323.0000 - val_fn: 736.0000 - val_accuracy: 0.8913 - val_precision: 0.7110 - val_recall: 0.1432 - val_auc: 0.7392 - lr: 0.0010\n",
      "Epoch 12/20\n",
      "226/226 [==============================] - 1s 3ms/step - loss: 0.3047 - tp: 475.0000 - fp: 221.0000 - tn: 25367.0000 - fn: 2865.0000 - accuracy: 0.8933 - precision: 0.6825 - recall: 0.1422 - auc: 0.7589 - val_loss: 0.3144 - val_tp: 127.0000 - val_fp: 51.0000 - val_tn: 6322.0000 - val_fn: 732.0000 - val_accuracy: 0.8917 - val_precision: 0.7135 - val_recall: 0.1478 - val_auc: 0.7391 - lr: 1.0000e-04\n",
      "Epoch 13/20\n",
      "226/226 [==============================] - 1s 3ms/step - loss: 0.3028 - tp: 511.0000 - fp: 232.0000 - tn: 25356.0000 - fn: 2829.0000 - accuracy: 0.8942 - precision: 0.6878 - recall: 0.1530 - auc: 0.7615 - val_loss: 0.3142 - val_tp: 130.0000 - val_fp: 53.0000 - val_tn: 6320.0000 - val_fn: 729.0000 - val_accuracy: 0.8919 - val_precision: 0.7104 - val_recall: 0.1513 - val_auc: 0.7391 - lr: 1.0000e-04\n",
      "Epoch 14/20\n",
      "226/226 [==============================] - 1s 3ms/step - loss: 0.3038 - tp: 519.0000 - fp: 231.0000 - tn: 25357.0000 - fn: 2821.0000 - accuracy: 0.8945 - precision: 0.6920 - recall: 0.1554 - auc: 0.7609 - val_loss: 0.3141 - val_tp: 133.0000 - val_fp: 54.0000 - val_tn: 6319.0000 - val_fn: 726.0000 - val_accuracy: 0.8921 - val_precision: 0.7112 - val_recall: 0.1548 - val_auc: 0.7393 - lr: 1.0000e-04\n",
      "Epoch 15/20\n",
      "226/226 [==============================] - 1s 3ms/step - loss: 0.3049 - tp: 521.0000 - fp: 245.0000 - tn: 25343.0000 - fn: 2819.0000 - accuracy: 0.8941 - precision: 0.6802 - recall: 0.1560 - auc: 0.7575 - val_loss: 0.3142 - val_tp: 131.0000 - val_fp: 53.0000 - val_tn: 6320.0000 - val_fn: 728.0000 - val_accuracy: 0.8920 - val_precision: 0.7120 - val_recall: 0.1525 - val_auc: 0.7391 - lr: 1.0000e-04\n",
      "Epoch 16/20\n",
      "226/226 [==============================] - 1s 2ms/step - loss: 0.3041 - tp: 510.0000 - fp: 249.0000 - tn: 25339.0000 - fn: 2830.0000 - accuracy: 0.8936 - precision: 0.6719 - recall: 0.1527 - auc: 0.7592 - val_loss: 0.3142 - val_tp: 131.0000 - val_fp: 53.0000 - val_tn: 6320.0000 - val_fn: 728.0000 - val_accuracy: 0.8920 - val_precision: 0.7120 - val_recall: 0.1525 - val_auc: 0.7391 - lr: 1.0000e-05\n",
      "Epoch 17/20\n",
      "226/226 [==============================] - 1s 2ms/step - loss: 0.3042 - tp: 507.0000 - fp: 251.0000 - tn: 25337.0000 - fn: 2833.0000 - accuracy: 0.8934 - precision: 0.6689 - recall: 0.1518 - auc: 0.7604 - val_loss: 0.3142 - val_tp: 131.0000 - val_fp: 53.0000 - val_tn: 6320.0000 - val_fn: 728.0000 - val_accuracy: 0.8920 - val_precision: 0.7120 - val_recall: 0.1525 - val_auc: 0.7390 - lr: 1.0000e-05\n",
      "Epoch 18/20\n",
      "226/226 [==============================] - 1s 3ms/step - loss: 0.3046 - tp: 486.0000 - fp: 240.0000 - tn: 25348.0000 - fn: 2854.0000 - accuracy: 0.8930 - precision: 0.6694 - recall: 0.1455 - auc: 0.7605 - val_loss: 0.3142 - val_tp: 131.0000 - val_fp: 53.0000 - val_tn: 6320.0000 - val_fn: 728.0000 - val_accuracy: 0.8920 - val_precision: 0.7120 - val_recall: 0.1525 - val_auc: 0.7390 - lr: 1.0000e-06\n",
      "Epoch 19/20\n",
      "226/226 [==============================] - 1s 3ms/step - loss: 0.3038 - tp: 511.0000 - fp: 233.0000 - tn: 25355.0000 - fn: 2829.0000 - accuracy: 0.8942 - precision: 0.6868 - recall: 0.1530 - auc: 0.7593 - val_loss: 0.3142 - val_tp: 131.0000 - val_fp: 53.0000 - val_tn: 6320.0000 - val_fn: 728.0000 - val_accuracy: 0.8920 - val_precision: 0.7120 - val_recall: 0.1525 - val_auc: 0.7391 - lr: 1.0000e-06\n",
      "Epoch 20/20\n",
      "226/226 [==============================] - 1s 3ms/step - loss: 0.3040 - tp: 518.0000 - fp: 250.0000 - tn: 25338.0000 - fn: 2822.0000 - accuracy: 0.8938 - precision: 0.6745 - recall: 0.1551 - auc: 0.7584 - val_loss: 0.3142 - val_tp: 131.0000 - val_fp: 53.0000 - val_tn: 6320.0000 - val_fn: 728.0000 - val_accuracy: 0.8920 - val_precision: 0.7120 - val_recall: 0.1525 - val_auc: 0.7391 - lr: 1.0000e-07\n"
     ]
    }
   ],
   "source": [
    "model = build_model(output_bias = initial_bias)\n",
    "careful_bias_history = model.fit(train_data , train_targets , batch_size = BATCH_SIZE ,  epochs = EPOCH , verbose=VERBOSE,callbacks = [callback] , validation_split=VALIDATION_SPLIT)"
   ]
  },
  {
   "cell_type": "code",
   "execution_count": 65,
   "metadata": {
    "colab": {},
    "colab_type": "code",
    "id": "2AL1bBtoS58K"
   },
   "outputs": [],
   "source": [
    "import matplotlib as mpl\n",
    "import matplotlib.pyplot as plt\n",
    "\n",
    "import seaborn as sns\n",
    "\n",
    "mpl.rcParams['figure.figsize'] = (12, 10)\n",
    "colors = plt.rcParams['axes.prop_cycle'].by_key()['color']\n",
    "\n",
    "def plot_loss(history, label, n):\n",
    "  # Use a log scale to show the wide range of values.\n",
    "  plt.semilogy(history.epoch,  history.history['loss'],\n",
    "               color=colors[n], label='Train '+label)\n",
    "  plt.semilogy(history.epoch,  history.history['val_loss'],\n",
    "          color=colors[n], label='Val '+label,\n",
    "          linestyle=\"--\")\n",
    "  plt.xlabel('Epoch')\n",
    "  plt.ylabel('Loss')\n",
    "  \n",
    "  plt.legend()"
   ]
  },
  {
   "cell_type": "code",
   "execution_count": 40,
   "metadata": {
    "colab": {
     "base_uri": "https://localhost:8080/",
     "height": 606
    },
    "colab_type": "code",
    "id": "he_7UmecS_jz",
    "outputId": "b4eef3fa-8cba-4e5f-d19a-47b2e585686c"
   },
   "outputs": [
    {
     "data": {
      "image/png": "[encoded data removed]",
      "text/plain": [
       "<Figure size 864x720 with 1 Axes>"
      ]
     },
     "metadata": {
      "needs_background": "light",
      "tags": []
     },
     "output_type": "display_data"
    }
   ],
   "source": [
    "plot_loss(zero_bias_history, \"Zero Bias\", 0)\n",
    "plot_loss(careful_bias_history, \"Careful Bias\", 1)"
   ]
  },
  {
   "cell_type": "markdown",
   "metadata": {
    "colab_type": "text",
    "id": "HwBsO4Zd2C8D"
   },
   "source": [
    "The above figure makes it clear: In terms of validation loss, on this problem, this careful initialization gives a NO clear advantage."
   ]
  },
  {
   "cell_type": "code",
   "execution_count": 68,
   "metadata": {
    "colab": {
     "base_uri": "https://localhost:8080/",
     "height": 717
    },
    "colab_type": "code",
    "id": "54LrkEcNUftw",
    "outputId": "0445675d-77b5-4c71-f9d7-b64739a83e83"
   },
   "outputs": [
    {
     "name": "stdout",
     "output_type": "stream",
     "text": [
      "Epoch 1/20\n",
      "226/226 [==============================] - 1s 6ms/step - loss: 0.4189 - tp: 417.0000 - fp: 1500.0000 - tn: 30461.0000 - fn: 3782.0000 - accuracy: 0.8539 - precision: 0.2175 - recall: 0.0993 - auc: 0.6148 - val_loss: 0.3352 - val_tp: 36.0000 - val_fp: 10.0000 - val_tn: 6363.0000 - val_fn: 823.0000 - val_accuracy: 0.8848 - val_precision: 0.7826 - val_recall: 0.0419 - val_auc: 0.6906 - lr: 0.0010\n",
      "Epoch 2/20\n",
      "226/226 [==============================] - 1s 2ms/step - loss: 0.3327 - tp: 381.0000 - fp: 224.0000 - tn: 25364.0000 - fn: 2959.0000 - accuracy: 0.8900 - precision: 0.6298 - recall: 0.1141 - auc: 0.6991 - val_loss: 0.3233 - val_tp: 135.0000 - val_fp: 58.0000 - val_tn: 6315.0000 - val_fn: 724.0000 - val_accuracy: 0.8919 - val_precision: 0.6995 - val_recall: 0.1572 - val_auc: 0.7153 - lr: 0.0010\n",
      "Epoch 3/20\n",
      "226/226 [==============================] - 1s 2ms/step - loss: 0.3250 - tp: 479.0000 - fp: 264.0000 - tn: 25324.0000 - fn: 2861.0000 - accuracy: 0.8920 - precision: 0.6447 - recall: 0.1434 - auc: 0.7121 - val_loss: 0.3193 - val_tp: 144.0000 - val_fp: 64.0000 - val_tn: 6309.0000 - val_fn: 715.0000 - val_accuracy: 0.8923 - val_precision: 0.6923 - val_recall: 0.1676 - val_auc: 0.7256 - lr: 0.0010\n",
      "Epoch 4/20\n",
      "226/226 [==============================] - 1s 2ms/step - loss: 0.3197 - tp: 498.0000 - fp: 272.0000 - tn: 25316.0000 - fn: 2842.0000 - accuracy: 0.8924 - precision: 0.6468 - recall: 0.1491 - auc: 0.7221 - val_loss: 0.3175 - val_tp: 146.0000 - val_fp: 68.0000 - val_tn: 6305.0000 - val_fn: 713.0000 - val_accuracy: 0.8920 - val_precision: 0.6822 - val_recall: 0.1700 - val_auc: 0.7296 - lr: 0.0010\n",
      "Epoch 5/20\n",
      "226/226 [==============================] - 1s 2ms/step - loss: 0.3163 - tp: 507.0000 - fp: 273.0000 - tn: 25315.0000 - fn: 2833.0000 - accuracy: 0.8926 - precision: 0.6500 - recall: 0.1518 - auc: 0.7299 - val_loss: 0.3162 - val_tp: 147.0000 - val_fp: 65.0000 - val_tn: 6308.0000 - val_fn: 712.0000 - val_accuracy: 0.8926 - val_precision: 0.6934 - val_recall: 0.1711 - val_auc: 0.7339 - lr: 0.0010\n",
      "Epoch 6/20\n",
      "226/226 [==============================] - 1s 2ms/step - loss: 0.3124 - tp: 514.0000 - fp: 258.0000 - tn: 25330.0000 - fn: 2826.0000 - accuracy: 0.8934 - precision: 0.6658 - recall: 0.1539 - auc: 0.7370 - val_loss: 0.3156 - val_tp: 143.0000 - val_fp: 59.0000 - val_tn: 6314.0000 - val_fn: 716.0000 - val_accuracy: 0.8928 - val_precision: 0.7079 - val_recall: 0.1665 - val_auc: 0.7363 - lr: 0.0010\n",
      "Epoch 7/20\n",
      "226/226 [==============================] - 1s 2ms/step - loss: 0.3131 - tp: 491.0000 - fp: 242.0000 - tn: 25346.0000 - fn: 2849.0000 - accuracy: 0.8931 - precision: 0.6698 - recall: 0.1470 - auc: 0.7348 - val_loss: 0.3149 - val_tp: 146.0000 - val_fp: 67.0000 - val_tn: 6306.0000 - val_fn: 713.0000 - val_accuracy: 0.8921 - val_precision: 0.6854 - val_recall: 0.1700 - val_auc: 0.7366 - lr: 0.0010\n",
      "Epoch 8/20\n",
      "226/226 [==============================] - 1s 2ms/step - loss: 0.3107 - tp: 523.0000 - fp: 270.0000 - tn: 25318.0000 - fn: 2817.0000 - accuracy: 0.8933 - precision: 0.6595 - recall: 0.1566 - auc: 0.7406 - val_loss: 0.3148 - val_tp: 144.0000 - val_fp: 62.0000 - val_tn: 6311.0000 - val_fn: 715.0000 - val_accuracy: 0.8926 - val_precision: 0.6990 - val_recall: 0.1676 - val_auc: 0.7376 - lr: 0.0010\n",
      "Epoch 9/20\n",
      "226/226 [==============================] - 1s 2ms/step - loss: 0.3092 - tp: 521.0000 - fp: 263.0000 - tn: 25325.0000 - fn: 2819.0000 - accuracy: 0.8935 - precision: 0.6645 - recall: 0.1560 - auc: 0.7446 - val_loss: 0.3143 - val_tp: 145.0000 - val_fp: 64.0000 - val_tn: 6309.0000 - val_fn: 714.0000 - val_accuracy: 0.8924 - val_precision: 0.6938 - val_recall: 0.1688 - val_auc: 0.7384 - lr: 0.0010\n",
      "Epoch 10/20\n",
      "226/226 [==============================] - 1s 2ms/step - loss: 0.3097 - tp: 503.0000 - fp: 260.0000 - tn: 25328.0000 - fn: 2837.0000 - accuracy: 0.8929 - precision: 0.6592 - recall: 0.1506 - auc: 0.7437 - val_loss: 0.3145 - val_tp: 145.0000 - val_fp: 64.0000 - val_tn: 6309.0000 - val_fn: 714.0000 - val_accuracy: 0.8924 - val_precision: 0.6938 - val_recall: 0.1688 - val_auc: 0.7390 - lr: 0.0010\n",
      "Epoch 11/20\n",
      "226/226 [==============================] - 1s 3ms/step - loss: 0.3092 - tp: 512.0000 - fp: 256.0000 - tn: 25332.0000 - fn: 2828.0000 - accuracy: 0.8934 - precision: 0.6667 - recall: 0.1533 - auc: 0.7437 - val_loss: 0.3149 - val_tp: 145.0000 - val_fp: 64.0000 - val_tn: 6309.0000 - val_fn: 714.0000 - val_accuracy: 0.8924 - val_precision: 0.6938 - val_recall: 0.1688 - val_auc: 0.7388 - lr: 0.0010\n",
      "Epoch 12/20\n",
      "226/226 [==============================] - 1s 2ms/step - loss: 0.3081 - tp: 503.0000 - fp: 257.0000 - tn: 25331.0000 - fn: 2837.0000 - accuracy: 0.8930 - precision: 0.6618 - recall: 0.1506 - auc: 0.7467 - val_loss: 0.3146 - val_tp: 145.0000 - val_fp: 64.0000 - val_tn: 6309.0000 - val_fn: 714.0000 - val_accuracy: 0.8924 - val_precision: 0.6938 - val_recall: 0.1688 - val_auc: 0.7391 - lr: 1.0000e-04\n",
      "Epoch 13/20\n",
      "226/226 [==============================] - 1s 3ms/step - loss: 0.3081 - tp: 504.0000 - fp: 269.0000 - tn: 25319.0000 - fn: 2836.0000 - accuracy: 0.8927 - precision: 0.6520 - recall: 0.1509 - auc: 0.7483 - val_loss: 0.3144 - val_tp: 145.0000 - val_fp: 63.0000 - val_tn: 6310.0000 - val_fn: 714.0000 - val_accuracy: 0.8926 - val_precision: 0.6971 - val_recall: 0.1688 - val_auc: 0.7391 - lr: 1.0000e-04\n",
      "Epoch 14/20\n",
      "226/226 [==============================] - 1s 3ms/step - loss: 0.3069 - tp: 514.0000 - fp: 261.0000 - tn: 25327.0000 - fn: 2826.0000 - accuracy: 0.8933 - precision: 0.6632 - recall: 0.1539 - auc: 0.7507 - val_loss: 0.3144 - val_tp: 145.0000 - val_fp: 63.0000 - val_tn: 6310.0000 - val_fn: 714.0000 - val_accuracy: 0.8926 - val_precision: 0.6971 - val_recall: 0.1688 - val_auc: 0.7392 - lr: 1.0000e-05\n",
      "Epoch 15/20\n",
      "226/226 [==============================] - 1s 3ms/step - loss: 0.3070 - tp: 506.0000 - fp: 268.0000 - tn: 25320.0000 - fn: 2834.0000 - accuracy: 0.8928 - precision: 0.6537 - recall: 0.1515 - auc: 0.7515 - val_loss: 0.3144 - val_tp: 145.0000 - val_fp: 63.0000 - val_tn: 6310.0000 - val_fn: 714.0000 - val_accuracy: 0.8926 - val_precision: 0.6971 - val_recall: 0.1688 - val_auc: 0.7392 - lr: 1.0000e-05\n",
      "Epoch 16/20\n",
      "226/226 [==============================] - 1s 2ms/step - loss: 0.3066 - tp: 523.0000 - fp: 261.0000 - tn: 25327.0000 - fn: 2817.0000 - accuracy: 0.8936 - precision: 0.6671 - recall: 0.1566 - auc: 0.7517 - val_loss: 0.3144 - val_tp: 145.0000 - val_fp: 63.0000 - val_tn: 6310.0000 - val_fn: 714.0000 - val_accuracy: 0.8926 - val_precision: 0.6971 - val_recall: 0.1688 - val_auc: 0.7391 - lr: 1.0000e-06\n",
      "Epoch 17/20\n",
      "226/226 [==============================] - 1s 2ms/step - loss: 0.3066 - tp: 498.0000 - fp: 255.0000 - tn: 25333.0000 - fn: 2842.0000 - accuracy: 0.8929 - precision: 0.6614 - recall: 0.1491 - auc: 0.7511 - val_loss: 0.3144 - val_tp: 145.0000 - val_fp: 63.0000 - val_tn: 6310.0000 - val_fn: 714.0000 - val_accuracy: 0.8926 - val_precision: 0.6971 - val_recall: 0.1688 - val_auc: 0.7391 - lr: 1.0000e-06\n",
      "Epoch 18/20\n",
      "226/226 [==============================] - 1s 2ms/step - loss: 0.3062 - tp: 515.0000 - fp: 253.0000 - tn: 25335.0000 - fn: 2825.0000 - accuracy: 0.8936 - precision: 0.6706 - recall: 0.1542 - auc: 0.7512 - val_loss: 0.3144 - val_tp: 145.0000 - val_fp: 63.0000 - val_tn: 6310.0000 - val_fn: 714.0000 - val_accuracy: 0.8926 - val_precision: 0.6971 - val_recall: 0.1688 - val_auc: 0.7391 - lr: 1.0000e-07\n",
      "Epoch 19/20\n",
      "226/226 [==============================] - 1s 3ms/step - loss: 0.3064 - tp: 497.0000 - fp: 236.0000 - tn: 25352.0000 - fn: 2843.0000 - accuracy: 0.8936 - precision: 0.6780 - recall: 0.1488 - auc: 0.7512 - val_loss: 0.3144 - val_tp: 145.0000 - val_fp: 63.0000 - val_tn: 6310.0000 - val_fn: 714.0000 - val_accuracy: 0.8926 - val_precision: 0.6971 - val_recall: 0.1688 - val_auc: 0.7391 - lr: 1.0000e-07\n",
      "Epoch 20/20\n",
      "226/226 [==============================] - 1s 3ms/step - loss: 0.3071 - tp: 514.0000 - fp: 245.0000 - tn: 25343.0000 - fn: 2826.0000 - accuracy: 0.8938 - precision: 0.6772 - recall: 0.1539 - auc: 0.7491 - val_loss: 0.3144 - val_tp: 145.0000 - val_fp: 63.0000 - val_tn: 6310.0000 - val_fn: 714.0000 - val_accuracy: 0.8926 - val_precision: 0.6971 - val_recall: 0.1688 - val_auc: 0.7391 - lr: 1.0000e-08\n"
     ]
    }
   ],
   "source": [
    "baseline_model = build_model(output_bias = 0.0)\n",
    "\n",
    "baseline_history = baseline_model.fit(train_data , train_targets , batch_size = BATCH_SIZE ,  epochs = EPOCH , verbose=VERBOSE,callbacks = [callback] , validation_split=VALIDATION_SPLIT)"
   ]
  },
  {
   "cell_type": "code",
   "execution_count": 69,
   "metadata": {
    "colab": {},
    "colab_type": "code",
    "id": "W6YEKKaqUgFu"
   },
   "outputs": [],
   "source": [
    "def plot_metrics(history):\n",
    "  metrics =  ['loss', 'auc', 'precision', 'recall']\n",
    "  for n, metric in enumerate(metrics):\n",
    "    name = metric.replace(\"_\",\" \").capitalize()\n",
    "    plt.subplot(2,2,n+1)\n",
    "    plt.plot(history.epoch,  history.history[metric], color=colors[0], label='Train')\n",
    "    plt.plot(history.epoch, history.history['val_'+metric],\n",
    "             color=colors[0], linestyle=\"--\", label='Val')\n",
    "    plt.xlabel('Epoch')\n",
    "    plt.ylabel(name)\n",
    "    if metric == 'loss':\n",
    "      plt.ylim([0, plt.ylim()[1]])\n",
    "    elif metric == 'auc':\n",
    "      plt.ylim([0.5,1])\n",
    "    else:\n",
    "      plt.ylim([0,1])\n",
    "\n",
    "    plt.legend()"
   ]
  },
  {
   "cell_type": "code",
   "execution_count": 70,
   "metadata": {
    "colab": {
     "base_uri": "https://localhost:8080/",
     "height": 610
    },
    "colab_type": "code",
    "id": "1gMoDCEkUgEU",
    "outputId": "02984664-91be-49f4-98b4-6cbd3af2343c"
   },
   "outputs": [
    {
     "data": {
      "image/png": "[encoded data removed]",
      "text/plain": [
       "<Figure size 864x720 with 4 Axes>"
      ]
     },
     "metadata": {
      "needs_background": "light",
      "tags": []
     },
     "output_type": "display_data"
    }
   ],
   "source": [
    "plot_metrics(baseline_history)"
   ]
  },
  {
   "cell_type": "code",
   "execution_count": 71,
   "metadata": {
    "colab": {
     "base_uri": "https://localhost:8080/",
     "height": 605
    },
    "colab_type": "code",
    "id": "3fD2ipJLUf3V",
    "outputId": "43009dca-6abe-4507-febf-fd1701b0c463"
   },
   "outputs": [
    {
     "name": "stdout",
     "output_type": "stream",
     "text": [
      "loss :  0.31616201996803284\n",
      "tp :  157.0\n",
      "fp :  79.0\n",
      "tn :  7874.0\n",
      "fn :  931.0\n",
      "accuracy :  0.8882867097854614\n",
      "precision :  0.6652542352676392\n",
      "recall :  0.14430147409439087\n",
      "auc :  0.7522426247596741\n",
      "\n",
      "Legitimate Transactions Detected (True Negatives):  7874\n",
      "Legitimate Transactions Incorrectly Detected (False Positives):  79\n",
      "Fraudulent Transactions Missed (False Negatives):  931\n",
      "Fraudulent Transactions Detected (True Positives):  157\n",
      "Total Fraudulent Transactions:  1088\n"
     ]
    },
    {
     "data": {
      "image/png": "[encoded data removed]",
      "text/plain": [
       "<Figure size 360x360 with 2 Axes>"
      ]
     },
     "metadata": {
      "needs_background": "light",
      "tags": []
     },
     "output_type": "display_data"
    }
   ],
   "source": [
    "\n",
    "from sklearn.metrics import confusion_matrix\n",
    "\n",
    "train_predictions_baseline = model.predict(train_data, batch_size=BATCH_SIZE)\n",
    "test_predictions_baseline = model.predict(test_data, batch_size=BATCH_SIZE)\n",
    "\n",
    "from sklearn import metrics \n",
    "\n",
    "def plot_cm(labels, predictions, p=.5):\n",
    "  cm = confusion_matrix(labels, predictions > p)\n",
    "  plt.figure(figsize=(5,5))\n",
    "  sns.heatmap(cm, annot=True, fmt=\"d\")\n",
    "  plt.title('Confusion matrix @{:.2f}'.format(p))\n",
    "  plt.ylabel('Actual label')\n",
    "  plt.xlabel('Predicted label')\n",
    "\n",
    "  print('Failure Term deposit Detected (True Negatives): ', cm[0][0])\n",
    "  print('Failure Term deposit Incorrectly Detected (False Positives): ', cm[0][1])\n",
    "  print('Term deposit Missed (False Negatives): ', cm[1][0])\n",
    "  print('Term deposit Detected (True Positives): ', cm[1][1])\n",
    "  print('Total Transactions: ', np.sum(cm[1]))\n",
    "  \n",
    "\n",
    "\n",
    "baseline_results = model.evaluate(test_data, test_targets,\n",
    "                                  batch_size=BATCH_SIZE, verbose=0)\n",
    "for name, value in zip(model.metrics_names, baseline_results):\n",
    "  print(name, ': ', value)\n",
    "print()\n",
    "\n",
    "plot_cm(test_targets, test_predictions_baseline)"
   ]
  },
  {
   "cell_type": "markdown",
   "metadata": {
    "colab_type": "text",
    "id": "c-gIsBC6X_Rb"
   },
   "source": [
    "## Using Class weights"
   ]
  },
  {
   "cell_type": "code",
   "execution_count": 81,
   "metadata": {
    "colab": {
     "base_uri": "https://localhost:8080/",
     "height": 51
    },
    "colab_type": "code",
    "id": "SbKq1quPUf17",
    "outputId": "76a69c99-00dd-4f7e-e165-6e4b7f0c15d1"
   },
   "outputs": [
    {
     "name": "stdout",
     "output_type": "stream",
     "text": [
      "Weight for class 0: 0.57\n",
      "Weight for class 1: 4.31\n"
     ]
    }
   ],
   "source": [
    "\n",
    "weight_for_0 = (1 / neg)*(total)/2.0 \n",
    "weight_for_1 = (1 / pos)*(total)/2.0\n",
    "\n",
    "class_weight = {0: weight_for_0, 1: weight_for_1}\n",
    "\n",
    "print('Weight for class 0: {:.2f}'.format(weight_for_0))\n",
    "print('Weight for class 1: {:.2f}'.format(weight_for_1))"
   ]
  },
  {
   "cell_type": "code",
   "execution_count": 82,
   "metadata": {
    "colab": {
     "base_uri": "https://localhost:8080/",
     "height": 717
    },
    "colab_type": "code",
    "id": "6ILtp-DeYSVs",
    "outputId": "6f5adfb7-18e6-4788-cce1-d0077b59faee"
   },
   "outputs": [
    {
     "name": "stdout",
     "output_type": "stream",
     "text": [
      "Epoch 1/20\n",
      "226/226 [==============================] - 1s 6ms/step - loss: 0.7425 - tp: 3550.0000 - fp: 20078.0000 - tn: 13463.0000 - fn: 878.0000 - accuracy: 0.4481 - precision: 0.1502 - recall: 0.8017 - auc: 0.6491 - val_loss: 0.6520 - val_tp: 616.0000 - val_fp: 2875.0000 - val_tn: 3498.0000 - val_fn: 243.0000 - val_accuracy: 0.5689 - val_precision: 0.1765 - val_recall: 0.7171 - val_auc: 0.6975 - lr: 0.0010\n",
      "Epoch 2/20\n",
      "226/226 [==============================] - 1s 3ms/step - loss: 0.6274 - tp: 2339.0000 - fp: 10661.0000 - tn: 14927.0000 - fn: 1001.0000 - accuracy: 0.5969 - precision: 0.1799 - recall: 0.7003 - auc: 0.7072 - val_loss: 0.6210 - val_tp: 579.0000 - val_fp: 2322.0000 - val_tn: 4051.0000 - val_fn: 280.0000 - val_accuracy: 0.6402 - val_precision: 0.1996 - val_recall: 0.6740 - val_auc: 0.7232 - lr: 0.0010\n",
      "Epoch 3/20\n",
      "226/226 [==============================] - 1s 3ms/step - loss: 0.6080 - tp: 2317.0000 - fp: 9663.0000 - tn: 15925.0000 - fn: 1023.0000 - accuracy: 0.6306 - precision: 0.1934 - recall: 0.6937 - auc: 0.7262 - val_loss: 0.6042 - val_tp: 561.0000 - val_fp: 2107.0000 - val_tn: 4266.0000 - val_fn: 298.0000 - val_accuracy: 0.6675 - val_precision: 0.2103 - val_recall: 0.6531 - val_auc: 0.7281 - lr: 0.0010\n",
      "Epoch 4/20\n",
      "226/226 [==============================] - 1s 2ms/step - loss: 0.6025 - tp: 2289.0000 - fp: 9092.0000 - tn: 16496.0000 - fn: 1051.0000 - accuracy: 0.6494 - precision: 0.2011 - recall: 0.6853 - auc: 0.7326 - val_loss: 0.6031 - val_tp: 566.0000 - val_fp: 2097.0000 - val_tn: 4276.0000 - val_fn: 293.0000 - val_accuracy: 0.6695 - val_precision: 0.2125 - val_recall: 0.6589 - val_auc: 0.7302 - lr: 0.0010\n",
      "Epoch 5/20\n",
      "226/226 [==============================] - 1s 3ms/step - loss: 0.5970 - tp: 2306.0000 - fp: 9081.0000 - tn: 16507.0000 - fn: 1034.0000 - accuracy: 0.6503 - precision: 0.2025 - recall: 0.6904 - auc: 0.7370 - val_loss: 0.5938 - val_tp: 541.0000 - val_fp: 1975.0000 - val_tn: 4398.0000 - val_fn: 318.0000 - val_accuracy: 0.6829 - val_precision: 0.2150 - val_recall: 0.6298 - val_auc: 0.7314 - lr: 0.0010\n",
      "Epoch 6/20\n",
      "226/226 [==============================] - 1s 2ms/step - loss: 0.5916 - tp: 2296.0000 - fp: 8522.0000 - tn: 17066.0000 - fn: 1044.0000 - accuracy: 0.6693 - precision: 0.2122 - recall: 0.6874 - auc: 0.7452 - val_loss: 0.5990 - val_tp: 551.0000 - val_fp: 2028.0000 - val_tn: 4345.0000 - val_fn: 308.0000 - val_accuracy: 0.6770 - val_precision: 0.2136 - val_recall: 0.6414 - val_auc: 0.7321 - lr: 0.0010\n",
      "Epoch 7/20\n",
      "226/226 [==============================] - 1s 3ms/step - loss: 0.5941 - tp: 2271.0000 - fp: 8718.0000 - tn: 16870.0000 - fn: 1069.0000 - accuracy: 0.6617 - precision: 0.2067 - recall: 0.6799 - auc: 0.7397 - val_loss: 0.5695 - val_tp: 520.0000 - val_fp: 1761.0000 - val_tn: 4612.0000 - val_fn: 339.0000 - val_accuracy: 0.7096 - val_precision: 0.2280 - val_recall: 0.6054 - val_auc: 0.7321 - lr: 0.0010\n",
      "Epoch 8/20\n",
      "226/226 [==============================] - 1s 3ms/step - loss: 0.5887 - tp: 2295.0000 - fp: 8236.0000 - tn: 17352.0000 - fn: 1045.0000 - accuracy: 0.6792 - precision: 0.2179 - recall: 0.6871 - auc: 0.7480 - val_loss: 0.5755 - val_tp: 524.0000 - val_fp: 1785.0000 - val_tn: 4588.0000 - val_fn: 335.0000 - val_accuracy: 0.7069 - val_precision: 0.2269 - val_recall: 0.6100 - val_auc: 0.7329 - lr: 0.0010\n",
      "Epoch 9/20\n",
      "226/226 [==============================] - 1s 3ms/step - loss: 0.5854 - tp: 2269.0000 - fp: 8057.0000 - tn: 17531.0000 - fn: 1071.0000 - accuracy: 0.6845 - precision: 0.2197 - recall: 0.6793 - auc: 0.7505 - val_loss: 0.5874 - val_tp: 543.0000 - val_fp: 1857.0000 - val_tn: 4516.0000 - val_fn: 316.0000 - val_accuracy: 0.6995 - val_precision: 0.2262 - val_recall: 0.6321 - val_auc: 0.7348 - lr: 0.0010\n",
      "Epoch 10/20\n",
      "226/226 [==============================] - 1s 3ms/step - loss: 0.5805 - tp: 2254.0000 - fp: 7933.0000 - tn: 17655.0000 - fn: 1086.0000 - accuracy: 0.6882 - precision: 0.2213 - recall: 0.6749 - auc: 0.7557 - val_loss: 0.5834 - val_tp: 539.0000 - val_fp: 1819.0000 - val_tn: 4554.0000 - val_fn: 320.0000 - val_accuracy: 0.7042 - val_precision: 0.2286 - val_recall: 0.6275 - val_auc: 0.7347 - lr: 1.0000e-04\n",
      "Epoch 11/20\n",
      "226/226 [==============================] - 1s 3ms/step - loss: 0.5799 - tp: 2265.0000 - fp: 7889.0000 - tn: 17699.0000 - fn: 1075.0000 - accuracy: 0.6901 - precision: 0.2231 - recall: 0.6781 - auc: 0.7558 - val_loss: 0.5821 - val_tp: 537.0000 - val_fp: 1809.0000 - val_tn: 4564.0000 - val_fn: 322.0000 - val_accuracy: 0.7053 - val_precision: 0.2289 - val_recall: 0.6251 - val_auc: 0.7349 - lr: 1.0000e-04\n",
      "Epoch 12/20\n",
      "226/226 [==============================] - 1s 3ms/step - loss: 0.5844 - tp: 2244.0000 - fp: 7895.0000 - tn: 17693.0000 - fn: 1096.0000 - accuracy: 0.6892 - precision: 0.2213 - recall: 0.6719 - auc: 0.7516 - val_loss: 0.5821 - val_tp: 537.0000 - val_fp: 1810.0000 - val_tn: 4563.0000 - val_fn: 322.0000 - val_accuracy: 0.7052 - val_precision: 0.2288 - val_recall: 0.6251 - val_auc: 0.7350 - lr: 1.0000e-05\n",
      "Epoch 13/20\n",
      "226/226 [==============================] - 1s 2ms/step - loss: 0.5834 - tp: 2261.0000 - fp: 7943.0000 - tn: 17645.0000 - fn: 1079.0000 - accuracy: 0.6881 - precision: 0.2216 - recall: 0.6769 - auc: 0.7532 - val_loss: 0.5822 - val_tp: 537.0000 - val_fp: 1811.0000 - val_tn: 4562.0000 - val_fn: 322.0000 - val_accuracy: 0.7051 - val_precision: 0.2287 - val_recall: 0.6251 - val_auc: 0.7349 - lr: 1.0000e-05\n",
      "Epoch 14/20\n",
      "226/226 [==============================] - 1s 3ms/step - loss: 0.5812 - tp: 2260.0000 - fp: 7805.0000 - tn: 17783.0000 - fn: 1080.0000 - accuracy: 0.6929 - precision: 0.2245 - recall: 0.6766 - auc: 0.7551 - val_loss: 0.5822 - val_tp: 537.0000 - val_fp: 1811.0000 - val_tn: 4562.0000 - val_fn: 322.0000 - val_accuracy: 0.7051 - val_precision: 0.2287 - val_recall: 0.6251 - val_auc: 0.7349 - lr: 1.0000e-06\n",
      "Epoch 15/20\n",
      "226/226 [==============================] - 1s 3ms/step - loss: 0.5845 - tp: 2263.0000 - fp: 7877.0000 - tn: 17711.0000 - fn: 1077.0000 - accuracy: 0.6905 - precision: 0.2232 - recall: 0.6775 - auc: 0.7521 - val_loss: 0.5822 - val_tp: 537.0000 - val_fp: 1811.0000 - val_tn: 4562.0000 - val_fn: 322.0000 - val_accuracy: 0.7051 - val_precision: 0.2287 - val_recall: 0.6251 - val_auc: 0.7349 - lr: 1.0000e-06\n",
      "Epoch 16/20\n",
      "226/226 [==============================] - 1s 3ms/step - loss: 0.5803 - tp: 2264.0000 - fp: 7893.0000 - tn: 17695.0000 - fn: 1076.0000 - accuracy: 0.6900 - precision: 0.2229 - recall: 0.6778 - auc: 0.7558 - val_loss: 0.5822 - val_tp: 537.0000 - val_fp: 1811.0000 - val_tn: 4562.0000 - val_fn: 322.0000 - val_accuracy: 0.7051 - val_precision: 0.2287 - val_recall: 0.6251 - val_auc: 0.7349 - lr: 1.0000e-07\n",
      "Epoch 17/20\n",
      "226/226 [==============================] - 1s 3ms/step - loss: 0.5828 - tp: 2230.0000 - fp: 7820.0000 - tn: 17768.0000 - fn: 1110.0000 - accuracy: 0.6913 - precision: 0.2219 - recall: 0.6677 - auc: 0.7529 - val_loss: 0.5822 - val_tp: 537.0000 - val_fp: 1811.0000 - val_tn: 4562.0000 - val_fn: 322.0000 - val_accuracy: 0.7051 - val_precision: 0.2287 - val_recall: 0.6251 - val_auc: 0.7349 - lr: 1.0000e-07\n",
      "Epoch 18/20\n",
      "226/226 [==============================] - 1s 2ms/step - loss: 0.5805 - tp: 2303.0000 - fp: 7838.0000 - tn: 17750.0000 - fn: 1037.0000 - accuracy: 0.6932 - precision: 0.2271 - recall: 0.6895 - auc: 0.7566 - val_loss: 0.5822 - val_tp: 537.0000 - val_fp: 1811.0000 - val_tn: 4562.0000 - val_fn: 322.0000 - val_accuracy: 0.7051 - val_precision: 0.2287 - val_recall: 0.6251 - val_auc: 0.7349 - lr: 1.0000e-08\n",
      "Epoch 19/20\n",
      "226/226 [==============================] - 1s 3ms/step - loss: 0.5796 - tp: 2285.0000 - fp: 7858.0000 - tn: 17730.0000 - fn: 1055.0000 - accuracy: 0.6919 - precision: 0.2253 - recall: 0.6841 - auc: 0.7567 - val_loss: 0.5822 - val_tp: 537.0000 - val_fp: 1811.0000 - val_tn: 4562.0000 - val_fn: 322.0000 - val_accuracy: 0.7051 - val_precision: 0.2287 - val_recall: 0.6251 - val_auc: 0.7349 - lr: 1.0000e-08\n",
      "Epoch 20/20\n",
      "226/226 [==============================] - 1s 3ms/step - loss: 0.5836 - tp: 2247.0000 - fp: 7854.0000 - tn: 17734.0000 - fn: 1093.0000 - accuracy: 0.6907 - precision: 0.2225 - recall: 0.6728 - auc: 0.7524 - val_loss: 0.5822 - val_tp: 537.0000 - val_fp: 1811.0000 - val_tn: 4562.0000 - val_fn: 322.0000 - val_accuracy: 0.7051 - val_precision: 0.2287 - val_recall: 0.6251 - val_auc: 0.7349 - lr: 1.0000e-09\n"
     ]
    }
   ],
   "source": [
    "weighted_model = build_model()\n",
    "weighted_history = weighted_model.fit(train_data , train_targets , batch_size = BATCH_SIZE ,class_weight=class_weight,  epochs = 20 , verbose=VERBOSE,callbacks = [callback] , validation_split=VALIDATION_SPLIT)"
   ]
  },
  {
   "cell_type": "code",
   "execution_count": 83,
   "metadata": {
    "colab": {
     "base_uri": "https://localhost:8080/",
     "height": 610
    },
    "colab_type": "code",
    "id": "0tCG0fwhYTUd",
    "outputId": "d4dd6578-8b70-43f6-be11-02f61cd18b9b"
   },
   "outputs": [
    {
     "data": {
      "image/png": "[encoded data removed]",
      "text/plain": [
       "<Figure size 864x720 with 4 Axes>"
      ]
     },
     "metadata": {
      "needs_background": "light",
      "tags": []
     },
     "output_type": "display_data"
    }
   ],
   "source": [
    "plot_metrics(weighted_history)"
   ]
  },
  {
   "cell_type": "code",
   "execution_count": 84,
   "metadata": {
    "colab": {
     "base_uri": "https://localhost:8080/",
     "height": 605
    },
    "colab_type": "code",
    "id": "k277cQuIYTph",
    "outputId": "f9001cc3-02f3-40cf-9505-f44e8e3f7459"
   },
   "outputs": [
    {
     "name": "stdout",
     "output_type": "stream",
     "text": [
      "loss :  0.5806705355644226\n",
      "tp :  728.0\n",
      "fp :  2261.0\n",
      "tn :  5692.0\n",
      "fn :  360.0\n",
      "accuracy :  0.7100984454154968\n",
      "precision :  0.24355971813201904\n",
      "recall :  0.6691176295280457\n",
      "auc :  0.7512601613998413\n",
      "\n",
      "Legitimate Transactions Detected (True Negatives):  5692\n",
      "Legitimate Transactions Incorrectly Detected (False Positives):  2261\n",
      "Fraudulent Transactions Missed (False Negatives):  360\n",
      "Fraudulent Transactions Detected (True Positives):  728\n",
      "Total Fraudulent Transactions:  1088\n"
     ]
    },
    {
     "data": {
      "image/png": "[encoded data removed]",
      "text/plain": [
       "<Figure size 360x360 with 2 Axes>"
      ]
     },
     "metadata": {
      "needs_background": "light",
      "tags": []
     },
     "output_type": "display_data"
    }
   ],
   "source": [
    "\n",
    "from sklearn.metrics import confusion_matrix\n",
    "\n",
    "train_predictions_weighted = weighted_model.predict(train_data, batch_size=BATCH_SIZE)\n",
    "test_predictions_weighted = weighted_model.predict(test_data, batch_size=BATCH_SIZE)\n",
    "\n",
    "\n",
    "\n",
    "weighted_results = weighted_model.evaluate(test_data, test_targets,\n",
    "                                  batch_size=BATCH_SIZE, verbose=0)\n",
    "for name, value in zip(weighted_model.metrics_names, weighted_results):\n",
    "  print(name, ': ', value)\n",
    "print()\n",
    "\n",
    "plot_cm(test_targets, test_predictions_weighted)"
   ]
  },
  {
   "cell_type": "markdown",
   "metadata": {
    "colab_type": "text",
    "id": "f_n_U1yXaJ_W"
   },
   "source": [
    "Here you can see that with class weights the accuracy and precision are lower because there are more false positives, but conversely the recall and AUC are higher because the model also found more true positives. Despite having lower accuracy, this model has higher recall (and identifies more fraudulent transactions). Of course, there is a cost to both types of error (you wouldn't want to bug users by flagging too many legitimate transactions as fraudulent, either). Carefully consider the trade-offs between these different types of errors for your application."
   ]
  },
  {
   "cell_type": "markdown",
   "metadata": {
    "colab_type": "text",
    "id": "3eNQh9nAciUM"
   },
   "source": [
    "## Oversampling\n",
    "\n",
    "Oversample the minority class\n",
    "\n",
    "A related approach would be to resample the dataset by oversampling the minority class."
   ]
  },
  {
   "cell_type": "code",
   "execution_count": 85,
   "metadata": {
    "colab": {
     "base_uri": "https://localhost:8080/",
     "height": 71
    },
    "colab_type": "code",
    "id": "NpVXQcl3YTfS",
    "outputId": "53c2bb2b-4b30-40ef-f76f-5b1e954ff679"
   },
   "outputs": [
    {
     "name": "stderr",
     "output_type": "stream",
     "text": [
      "/usr/local/lib/python3.6/dist-packages/sklearn/utils/deprecation.py:87: FutureWarning: Function safe_indexing is deprecated; safe_indexing is deprecated in version 0.22 and will be removed in version 0.24.\n",
      "  warnings.warn(msg, category=FutureWarning)\n"
     ]
    }
   ],
   "source": [
    "from imblearn.over_sampling import SMOTE\n",
    "\n",
    "\n",
    "X_resampled, y_resampled = SMOTE().fit_resample(train_data, train_targets)\n"
   ]
  },
  {
   "cell_type": "code",
   "execution_count": 50,
   "metadata": {
    "colab": {
     "base_uri": "https://localhost:8080/",
     "height": 34
    },
    "colab_type": "code",
    "id": "5Ku9moKmiUyL",
    "outputId": "891d149b-b32a-4419-fc80-b58cf53ed7aa"
   },
   "outputs": [
    {
     "data": {
      "text/plain": [
       "(36160, 28)"
      ]
     },
     "execution_count": 50,
     "metadata": {
      "tags": []
     },
     "output_type": "execute_result"
    }
   ],
   "source": [
    "train_data.shape"
   ]
  },
  {
   "cell_type": "code",
   "execution_count": 51,
   "metadata": {
    "colab": {
     "base_uri": "https://localhost:8080/",
     "height": 34
    },
    "colab_type": "code",
    "id": "1VQ61JdriaA2",
    "outputId": "a72086e6-76cc-41ed-ca6f-bac6b094dff5"
   },
   "outputs": [
    {
     "data": {
      "text/plain": [
       "(63922, 28)"
      ]
     },
     "execution_count": 51,
     "metadata": {
      "tags": []
     },
     "output_type": "execute_result"
    }
   ],
   "source": [
    "X_resampled.shape"
   ]
  },
  {
   "cell_type": "code",
   "execution_count": 52,
   "metadata": {
    "colab": {
     "base_uri": "https://localhost:8080/",
     "height": 34
    },
    "colab_type": "code",
    "id": "rTNhczOgYTdw",
    "outputId": "1d936e94-26a0-4953-ae68-88098e9f9245"
   },
   "outputs": [
    {
     "data": {
      "text/plain": [
       "500.0"
      ]
     },
     "execution_count": 52,
     "metadata": {
      "tags": []
     },
     "output_type": "execute_result"
    }
   ],
   "source": [
    "resampled_steps_per_epoch = np.ceil(2.0*neg/BATCH_SIZE)\n",
    "resampled_steps_per_epoch"
   ]
  },
  {
   "cell_type": "markdown",
   "metadata": {
    "colab_type": "text",
    "id": "cglEcTuWedwS"
   },
   "source": [
    "## Train on the oversampled data\n",
    "\n",
    "Now try training the model with the resampled data set instead of using class weights to see how these methods compare."
   ]
  },
  {
   "cell_type": "code",
   "execution_count": 86,
   "metadata": {
    "colab": {
     "base_uri": "https://localhost:8080/",
     "height": 445
    },
    "colab_type": "code",
    "id": "ak4x9Ko6edJc",
    "outputId": "349547e0-77e3-4210-b2e5-6aa09cc4ef6d"
   },
   "outputs": [
    {
     "name": "stdout",
     "output_type": "stream",
     "text": [
      "Epoch 1/100\n",
      "400/400 [==============================] - 2s 5ms/step - loss: 0.5868 - tp: 7614.0000 - fp: 5931.0000 - tn: 33983.0000 - fn: 12650.0000 - accuracy: 0.6912 - precision: 0.5621 - recall: 0.3757 - auc: 0.7011 - val_loss: 0.8049 - val_tp: 5094.0000 - val_fp: 0.0000e+00 - val_tn: 0.0000e+00 - val_fn: 7691.0000 - val_accuracy: 0.3984 - val_precision: 1.0000 - val_recall: 0.3984 - val_auc: 0.0000e+00\n",
      "Epoch 2/100\n",
      "400/400 [==============================] - 1s 3ms/step - loss: 0.5601 - tp: 8310.0000 - fp: 3621.0000 - tn: 28340.0000 - fn: 10866.0000 - accuracy: 0.7167 - precision: 0.6965 - recall: 0.4334 - auc: 0.7517 - val_loss: 0.8145 - val_tp: 5583.0000 - val_fp: 0.0000e+00 - val_tn: 0.0000e+00 - val_fn: 7202.0000 - val_accuracy: 0.4367 - val_precision: 1.0000 - val_recall: 0.4367 - val_auc: 0.0000e+00\n",
      "Epoch 3/100\n",
      "400/400 [==============================] - 1s 3ms/step - loss: 0.5530 - tp: 8646.0000 - fp: 3679.0000 - tn: 28282.0000 - fn: 10530.0000 - accuracy: 0.7221 - precision: 0.7015 - recall: 0.4509 - auc: 0.7598 - val_loss: 0.7862 - val_tp: 5798.0000 - val_fp: 0.0000e+00 - val_tn: 0.0000e+00 - val_fn: 6987.0000 - val_accuracy: 0.4535 - val_precision: 1.0000 - val_recall: 0.4535 - val_auc: 0.0000e+00\n",
      "Epoch 4/100\n",
      "400/400 [==============================] - 1s 3ms/step - loss: 0.5497 - tp: 8756.0000 - fp: 3694.0000 - tn: 28267.0000 - fn: 10420.0000 - accuracy: 0.7240 - precision: 0.7033 - recall: 0.4566 - auc: 0.7632 - val_loss: 0.7975 - val_tp: 5748.0000 - val_fp: 0.0000e+00 - val_tn: 0.0000e+00 - val_fn: 7037.0000 - val_accuracy: 0.4496 - val_precision: 1.0000 - val_recall: 0.4496 - val_auc: 0.0000e+00\n",
      "Epoch 5/100\n",
      "400/400 [==============================] - 1s 3ms/step - loss: 0.5468 - tp: 8892.0000 - fp: 3626.0000 - tn: 28335.0000 - fn: 10284.0000 - accuracy: 0.7280 - precision: 0.7103 - recall: 0.4637 - auc: 0.7658 - val_loss: 0.7810 - val_tp: 6017.0000 - val_fp: 0.0000e+00 - val_tn: 0.0000e+00 - val_fn: 6768.0000 - val_accuracy: 0.4706 - val_precision: 1.0000 - val_recall: 0.4706 - val_auc: 0.0000e+00\n",
      "Epoch 6/100\n",
      "400/400 [==============================] - 1s 2ms/step - loss: 0.5452 - tp: 8932.0000 - fp: 3677.0000 - tn: 28284.0000 - fn: 10244.0000 - accuracy: 0.7278 - precision: 0.7084 - recall: 0.4658 - auc: 0.7680 - val_loss: 0.7823 - val_tp: 6153.0000 - val_fp: 0.0000e+00 - val_tn: 0.0000e+00 - val_fn: 6632.0000 - val_accuracy: 0.4813 - val_precision: 1.0000 - val_recall: 0.4813 - val_auc: 0.0000e+00\n",
      "Epoch 7/100\n",
      "400/400 [==============================] - 1s 2ms/step - loss: 0.5450 - tp: 9087.0000 - fp: 3832.0000 - tn: 28129.0000 - fn: 10089.0000 - accuracy: 0.7278 - precision: 0.7034 - recall: 0.4739 - auc: 0.7682 - val_loss: 0.7854 - val_tp: 6055.0000 - val_fp: 0.0000e+00 - val_tn: 0.0000e+00 - val_fn: 6730.0000 - val_accuracy: 0.4736 - val_precision: 1.0000 - val_recall: 0.4736 - val_auc: 0.0000e+00\n",
      "Epoch 8/100\n",
      "400/400 [==============================] - 1s 3ms/step - loss: 0.5430 - tp: 8990.0000 - fp: 3752.0000 - tn: 28209.0000 - fn: 10186.0000 - accuracy: 0.7274 - precision: 0.7055 - recall: 0.4688 - auc: 0.7708 - val_loss: 0.7811 - val_tp: 6268.0000 - val_fp: 0.0000e+00 - val_tn: 0.0000e+00 - val_fn: 6517.0000 - val_accuracy: 0.4903 - val_precision: 1.0000 - val_recall: 0.4903 - val_auc: 0.0000e+00\n",
      "Epoch 9/100\n",
      "400/400 [==============================] - 1s 3ms/step - loss: 0.5429 - tp: 9182.0000 - fp: 3857.0000 - tn: 28104.0000 - fn: 9994.0000 - accuracy: 0.7291 - precision: 0.7042 - recall: 0.4788 - auc: 0.7710 - val_loss: 0.8000 - val_tp: 6020.0000 - val_fp: 0.0000e+00 - val_tn: 0.0000e+00 - val_fn: 6765.0000 - val_accuracy: 0.4709 - val_precision: 1.0000 - val_recall: 0.4709 - val_auc: 0.0000e+00\n",
      "Epoch 10/100\n",
      "400/400 [==============================] - 1s 3ms/step - loss: 0.5409 - tp: 9201.0000 - fp: 3852.0000 - tn: 28109.0000 - fn: 9975.0000 - accuracy: 0.7296 - precision: 0.7049 - recall: 0.4798 - auc: 0.7728 - val_loss: 0.7798 - val_tp: 6256.0000 - val_fp: 0.0000e+00 - val_tn: 0.0000e+00 - val_fn: 6529.0000 - val_accuracy: 0.4893 - val_precision: 1.0000 - val_recall: 0.4893 - val_auc: 0.0000e+00\n",
      "Epoch 11/100\n",
      "378/400 [===========================>..] - ETA: 0s - loss: 0.5415 - tp: 8792.0000 - fp: 3729.0000 - tn: 26510.0000 - fn: 9353.0000 - accuracy: 0.7296 - precision: 0.7022 - recall: 0.4845 - auc: 0.7724Restoring model weights from the end of the best epoch.\n",
      "400/400 [==============================] - 1s 3ms/step - loss: 0.5405 - tp: 9289.0000 - fp: 3913.0000 - tn: 28048.0000 - fn: 9887.0000 - accuracy: 0.7301 - precision: 0.7036 - recall: 0.4844 - auc: 0.7734 - val_loss: 0.7735 - val_tp: 6222.0000 - val_fp: 0.0000e+00 - val_tn: 0.0000e+00 - val_fn: 6563.0000 - val_accuracy: 0.4867 - val_precision: 1.0000 - val_recall: 0.4867 - val_auc: 0.0000e+00\n",
      "Epoch 00011: early stopping\n"
     ]
    }
   ],
   "source": [
    "resampled_model = build_model()\n",
    "\n",
    "\n",
    "# Reset the bias to zero, since this dataset is balanced.\n",
    "output_layer = resampled_model.layers[-1] \n",
    "output_layer.bias.assign([0])\n",
    "\n",
    "early_stopping = tf.keras.callbacks.EarlyStopping(\n",
    "    monitor='val_auc', \n",
    "    verbose=1,\n",
    "    patience=10,\n",
    "    mode='max',\n",
    "    restore_best_weights=True)\n",
    "\n",
    "resampled_history = resampled_model.fit(X_resampled , y_resampled , batch_size = BATCH_SIZE ,  epochs = 100 , verbose=VERBOSE,callbacks = [early_stopping] , validation_split=VALIDATION_SPLIT)"
   ]
  },
  {
   "cell_type": "code",
   "execution_count": 87,
   "metadata": {
    "colab": {
     "base_uri": "https://localhost:8080/",
     "height": 605
    },
    "colab_type": "code",
    "id": "LWSyYoURe6wq",
    "outputId": "8f7e38f9-6f41-4bf0-d697-090db2d30aea"
   },
   "outputs": [
    {
     "name": "stdout",
     "output_type": "stream",
     "text": [
      "loss :  0.4536041021347046\n",
      "tp :  418.0\n",
      "fp :  676.0\n",
      "tn :  7277.0\n",
      "fn :  670.0\n",
      "accuracy :  0.8511226773262024\n",
      "precision :  0.38208410143852234\n",
      "recall :  0.3841911852359772\n",
      "auc :  0.7418040037155151\n",
      "\n",
      "Legitimate Transactions Detected (True Negatives):  7277\n",
      "Legitimate Transactions Incorrectly Detected (False Positives):  676\n",
      "Fraudulent Transactions Missed (False Negatives):  670\n",
      "Fraudulent Transactions Detected (True Positives):  418\n",
      "Total Fraudulent Transactions:  1088\n"
     ]
    },
    {
     "data": {
      "image/png": "[encoded data removed]",
      "text/plain": [
       "<Figure size 360x360 with 2 Axes>"
      ]
     },
     "metadata": {
      "needs_background": "light",
      "tags": []
     },
     "output_type": "display_data"
    }
   ],
   "source": [
    "\n",
    "from sklearn.metrics import confusion_matrix\n",
    "\n",
    "\n",
    "test_predictions_resampled = resampled_model.predict(test_data, batch_size=BATCH_SIZE)\n",
    "\n",
    "\n",
    "\n",
    "resampled_results = resampled_model.evaluate(test_data, test_targets,\n",
    "                                  batch_size=BATCH_SIZE, verbose=0)\n",
    "for name, value in zip(resampled_model.metrics_names, resampled_results):\n",
    "  print(name, ': ', value)\n",
    "print()\n",
    "\n",
    "plot_cm(test_targets, test_predictions_resampled)"
   ]
  }
 ],
 "metadata": {
  "colab": {
   "collapsed_sections": [],
   "name": "Bank-Term-Marketting-UPDATED.ipynb",
   "provenance": []
  },
  "kernelspec": {
   "display_name": "Python 3",
   "language": "python",
   "name": "python3"
  },
  "language_info": {
   "codemirror_mode": {
    "name": "ipython",
    "version": 3
   },
   "file_extension": ".py",
   "mimetype": "text/x-python",
   "name": "python",
   "nbconvert_exporter": "python",
   "pygments_lexer": "ipython3",
   "version": "3.7.6"
  }
 },
 "nbformat": 4,
 "nbformat_minor": 1
}
